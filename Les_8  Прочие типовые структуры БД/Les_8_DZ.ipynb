{
 "cells": [
  {
   "cell_type": "markdown",
   "metadata": {
    "Collapsed": "false"
   },
   "source": [
    "# Задача"
   ]
  },
  {
   "cell_type": "markdown",
   "metadata": {
    "Collapsed": "false"
   },
   "source": [
    "ДЗ делаем по бд orders\n",
    "\n",
    "В качестве ДЗ сделаем карту поведения пользователей.\n",
    "\n",
    "Мы обсуждали, что всех пользователей можно разделить, к примеру, на \n",
    "- !New (совершили только 1 покупку), \n",
    "- Regular (совершили 2 или более на сумму не более стольки-то), \n",
    "- Vip (совершили дорогие покупки и достаточно часто), \n",
    "- ! Lost (раньше покупали хотя бы раз и с даты последней покупки прошло больше 3 месяцев).\n",
    "\n",
    "Вся база должна войти в эти гурппы (т.е. каждый пользователь должен попадать только в одну из этих групп).\n",
    "\n",
    "Задача:\n",
    "1. Уточнить критерии групп New,Regular,Vip,Lost\n",
    "2. По состоянию на 1.01.2017 понимаем, кто попадает в какую группу, подсчитываем кол-во пользователей в каждой.\n",
    "3. По состоянию на 1.02.2017 понимаем, кто вышел из каждой из групп, а кто вошел.\n",
    "4. Аналогично смотрим состояние на 1.03.2017, понимаем кто вышел из каждой из групп, а кто вошел.\n",
    "5. В итоге делаем вывод, какая группа уменьшается, какая увеличивается и продумываем, в чем может быть причина.\n",
    "\n",
    "Присылайте отчет в pdf\n",
    "*/"
   ]
  },
  {
   "cell_type": "markdown",
   "metadata": {
    "Collapsed": "false"
   },
   "source": [
    "# Подготовка"
   ]
  },
  {
   "cell_type": "markdown",
   "metadata": {
    "Collapsed": "false"
   },
   "source": [
    "## Подключение библиотек"
   ]
  },
  {
   "cell_type": "code",
   "execution_count": 1,
   "metadata": {
    "Collapsed": "false"
   },
   "outputs": [],
   "source": [
    "import pymysql.cursors\n",
    "import pandas as pd\n",
    "from pprint import pprint\n",
    "import matplotlib.pyplot as plt\n",
    "import getpass"
   ]
  },
  {
   "cell_type": "markdown",
   "metadata": {
    "Collapsed": "false"
   },
   "source": [
    "## Подключение к базе данных"
   ]
  },
  {
   "cell_type": "code",
   "execution_count": 2,
   "metadata": {
    "Collapsed": "false"
   },
   "outputs": [
    {
     "name": "stdout",
     "output_type": "stream",
     "text": [
      "connect successful!!\n"
     ]
    }
   ],
   "source": [
    "# password_mysql = getpass.getpass(prompt=\"Введите пароль от MySQL-сервера: \")\n",
    "password_mysql = \"pass123\"\n",
    "mydb = pymysql.connect(host=\"127.0.0.1\",\n",
    "                             user='root',\n",
    "                             password=password_mysql, \n",
    "                             db='db_analyt_loc',\n",
    "                             charset='utf8mb4',\n",
    "                             cursorclass=pymysql.cursors.DictCursor)\n",
    " \n",
    "print (\"connect successful!!\")"
   ]
  },
  {
   "cell_type": "code",
   "execution_count": 30,
   "metadata": {
    "Collapsed": "false"
   },
   "outputs": [
    {
     "data": {
      "text/html": [
       "<div>\n",
       "<style scoped>\n",
       "    .dataframe tbody tr th:only-of-type {\n",
       "        vertical-align: middle;\n",
       "    }\n",
       "\n",
       "    .dataframe tbody tr th {\n",
       "        vertical-align: top;\n",
       "    }\n",
       "\n",
       "    .dataframe thead th {\n",
       "        text-align: right;\n",
       "    }\n",
       "</style>\n",
       "<table border=\"1\" class=\"dataframe\">\n",
       "  <thead>\n",
       "    <tr style=\"text-align: right;\">\n",
       "      <th></th>\n",
       "      <th>Tables_in_db_analyt_loc</th>\n",
       "    </tr>\n",
       "  </thead>\n",
       "  <tbody>\n",
       "    <tr>\n",
       "      <th>0</th>\n",
       "      <td>orders_20190822</td>\n",
       "    </tr>\n",
       "    <tr>\n",
       "      <th>1</th>\n",
       "      <td>orders_all</td>\n",
       "    </tr>\n",
       "    <tr>\n",
       "      <th>2</th>\n",
       "      <td>time_user_b</td>\n",
       "    </tr>\n",
       "    <tr>\n",
       "      <th>3</th>\n",
       "      <td>time_user_ym_s</td>\n",
       "    </tr>\n",
       "    <tr>\n",
       "      <th>4</th>\n",
       "      <td>users_for_merg</td>\n",
       "    </tr>\n",
       "  </tbody>\n",
       "</table>\n",
       "</div>"
      ],
      "text/plain": [
       "  Tables_in_db_analyt_loc\n",
       "0         orders_20190822\n",
       "1              orders_all\n",
       "2             time_user_b\n",
       "3          time_user_ym_s\n",
       "4          users_for_merg"
      ]
     },
     "execution_count": 30,
     "metadata": {},
     "output_type": "execute_result"
    }
   ],
   "source": [
    "def show_tables():\n",
    "    return pd.read_sql(\"\"\"SHOW TABLES FROM db_analyt_loc;\"\"\", con=mydb)\n",
    "show_tables()"
   ]
  },
  {
   "cell_type": "markdown",
   "metadata": {
    "Collapsed": "false"
   },
   "source": [
    "1. Уточнить критерии групп New,Regular,Vip,Lost\n"
   ]
  },
  {
   "cell_type": "markdown",
   "metadata": {
    "Collapsed": "false"
   },
   "source": [
    "## 2. По состоянию на 1.01.2017 понимаем, кто попадает в какую группу, подсчитываем кол-во пользователей в каждой."
   ]
  },
  {
   "cell_type": "code",
   "execution_count": 53,
   "metadata": {
    "Collapsed": "false"
   },
   "outputs": [],
   "source": [
    "current_db = 'orders_20190822'"
   ]
  },
  {
   "cell_type": "code",
   "execution_count": 64,
   "metadata": {
    "Collapsed": "false"
   },
   "outputs": [],
   "source": [
    "date = '\\'2017-01-01\\''"
   ]
  },
  {
   "cell_type": "code",
   "execution_count": 79,
   "metadata": {
    "Collapsed": "false"
   },
   "outputs": [
    {
     "name": "stdout",
     "output_type": "stream",
     "text": [
      "Wall time: 10.7 s\n"
     ]
    },
    {
     "data": {
      "text/html": [
       "<div>\n",
       "<style scoped>\n",
       "    .dataframe tbody tr th:only-of-type {\n",
       "        vertical-align: middle;\n",
       "    }\n",
       "\n",
       "    .dataframe tbody tr th {\n",
       "        vertical-align: top;\n",
       "    }\n",
       "\n",
       "    .dataframe thead th {\n",
       "        text-align: right;\n",
       "    }\n",
       "</style>\n",
       "<table border=\"1\" class=\"dataframe\">\n",
       "  <thead>\n",
       "    <tr style=\"text-align: right;\">\n",
       "      <th></th>\n",
       "      <th>user_id</th>\n",
       "      <th>group_</th>\n",
       "      <th>date</th>\n",
       "    </tr>\n",
       "  </thead>\n",
       "  <tbody>\n",
       "    <tr>\n",
       "      <th>0</th>\n",
       "      <td>1105609</td>\n",
       "      <td>New</td>\n",
       "      <td>2017-01-01</td>\n",
       "    </tr>\n",
       "    <tr>\n",
       "      <th>1</th>\n",
       "      <td>982696</td>\n",
       "      <td>New</td>\n",
       "      <td>2017-01-01</td>\n",
       "    </tr>\n",
       "    <tr>\n",
       "      <th>2</th>\n",
       "      <td>1105614</td>\n",
       "      <td>New</td>\n",
       "      <td>2017-01-01</td>\n",
       "    </tr>\n",
       "    <tr>\n",
       "      <th>3</th>\n",
       "      <td>1105617</td>\n",
       "      <td>New</td>\n",
       "      <td>2017-01-01</td>\n",
       "    </tr>\n",
       "    <tr>\n",
       "      <th>4</th>\n",
       "      <td>1105621</td>\n",
       "      <td>New</td>\n",
       "      <td>2017-01-01</td>\n",
       "    </tr>\n",
       "    <tr>\n",
       "      <th>...</th>\n",
       "      <td>...</td>\n",
       "      <td>...</td>\n",
       "      <td>...</td>\n",
       "    </tr>\n",
       "    <tr>\n",
       "      <th>334082</th>\n",
       "      <td>2838382</td>\n",
       "      <td>New</td>\n",
       "      <td>2017-01-01</td>\n",
       "    </tr>\n",
       "    <tr>\n",
       "      <th>334083</th>\n",
       "      <td>2838390</td>\n",
       "      <td>New</td>\n",
       "      <td>2017-01-01</td>\n",
       "    </tr>\n",
       "    <tr>\n",
       "      <th>334084</th>\n",
       "      <td>2838399</td>\n",
       "      <td>New</td>\n",
       "      <td>2017-01-01</td>\n",
       "    </tr>\n",
       "    <tr>\n",
       "      <th>334085</th>\n",
       "      <td>2838406</td>\n",
       "      <td>New</td>\n",
       "      <td>2017-01-01</td>\n",
       "    </tr>\n",
       "    <tr>\n",
       "      <th>334086</th>\n",
       "      <td>2838405</td>\n",
       "      <td>New</td>\n",
       "      <td>2017-01-01</td>\n",
       "    </tr>\n",
       "  </tbody>\n",
       "</table>\n",
       "<p>334087 rows × 3 columns</p>\n",
       "</div>"
      ],
      "text/plain": [
       "        user_id group_        date\n",
       "0       1105609    New  2017-01-01\n",
       "1        982696    New  2017-01-01\n",
       "2       1105614    New  2017-01-01\n",
       "3       1105617    New  2017-01-01\n",
       "4       1105621    New  2017-01-01\n",
       "...         ...    ...         ...\n",
       "334082  2838382    New  2017-01-01\n",
       "334083  2838390    New  2017-01-01\n",
       "334084  2838399    New  2017-01-01\n",
       "334085  2838406    New  2017-01-01\n",
       "334086  2838405    New  2017-01-01\n",
       "\n",
       "[334087 rows x 3 columns]"
      ]
     },
     "execution_count": 79,
     "metadata": {},
     "output_type": "execute_result"
    }
   ],
   "source": [
    "%%time\n",
    "df_new = pd.read_sql(\n",
    "    f\"\"\"\n",
    "    SELECT \n",
    "      user_id, \n",
    "      'New' AS group_,\n",
    "      DATE('2017-01-01') AS date\n",
    "    FROM \n",
    "    (SELECT * FROM orders_20190822 WHERE o_date < '2017-01-01') AS o2\n",
    "    GROUP BY user_id\n",
    "    HAVING COUNT(id_o) = 1\n",
    "    \"\"\", con=mydb)\n",
    "df_new"
   ]
  },
  {
   "cell_type": "code",
   "execution_count": 66,
   "metadata": {
    "Collapsed": "false"
   },
   "outputs": [
    {
     "name": "stdout",
     "output_type": "stream",
     "text": [
      "Wall time: 13.1 s\n"
     ]
    },
    {
     "data": {
      "text/plain": [
       "(334087, 3)"
      ]
     },
     "execution_count": 66,
     "metadata": {},
     "output_type": "execute_result"
    }
   ],
   "source": [
    "%%time\n",
    "df_lost = pd.read_sql(\n",
    "    f\"\"\"\n",
    "    SELECT\n",
    "      user_id, \n",
    "      'Lost' AS group_,\n",
    "      DATE({date}) AS date\n",
    "    FROM (\n",
    "    SELECT \n",
    "        user_id,\n",
    "        TIMESTAMPDIFF(MONTH,MAX(o_date),DATE('2017-12-31')) AS period_from_last_ord\n",
    "    FROM (SELECT * FROM {current_db} WHERE o_date < {date}) AS o2\n",
    "    GROUP BY user_id\n",
    "    HAVING COUNT(id_o >= 1)) AS t\n",
    "    WHERE period_from_last_ord >= 3;\n",
    "    \"\"\", con=mydb)\n",
    "df_new.shape"
   ]
  },
  {
   "cell_type": "code",
   "execution_count": 68,
   "metadata": {
    "Collapsed": "false"
   },
   "outputs": [
    {
     "name": "stdout",
     "output_type": "stream",
     "text": [
      "Wall time: 5.35 s\n"
     ]
    },
    {
     "data": {
      "text/plain": [
       "(334087, 3)"
      ]
     },
     "execution_count": 68,
     "metadata": {},
     "output_type": "execute_result"
    }
   ],
   "source": [
    "%%time\n",
    "df_vip = pd.read_sql(\n",
    "    f\"\"\"\n",
    "    SELECT\n",
    "      t2.user_id, \n",
    "      'Vip' AS group_,\n",
    "      DATE({date}) AS date\n",
    "    FROM (\n",
    "    SELECT \n",
    "      user_id,\n",
    "      CEILING(COUNT(o.id_o)/TIMESTAMPDIFF(MONTH,MIN(o.o_date),MAX(o.o_date))) AS freq,\n",
    "      ROUND(AVG(o.price),2) as avg_price\n",
    "    FROM {current_db} o\n",
    "    GROUP BY o.user_id) AS t2\n",
    "    WHERE t2.freq >2 AND t2.avg_price > 1000;\n",
    "    \"\"\", con=mydb)\n",
    "df_new.shape"
   ]
  },
  {
   "cell_type": "code",
   "execution_count": 69,
   "metadata": {
    "Collapsed": "false"
   },
   "outputs": [
    {
     "name": "stdout",
     "output_type": "stream",
     "text": [
      "Wall time: 4.86 s\n"
     ]
    },
    {
     "data": {
      "text/plain": [
       "(334087, 3)"
      ]
     },
     "execution_count": 69,
     "metadata": {},
     "output_type": "execute_result"
    }
   ],
   "source": [
    "%%time\n",
    "df_regular = pd.read_sql(\n",
    "    f\"\"\"\n",
    "    SELECT\n",
    "      t2.user_id, \n",
    "      'Regular' AS group_,\n",
    "      DATE({date}) AS date\n",
    "    FROM (\n",
    "    SELECT \n",
    "      user_id,\n",
    "      CEILING(COUNT(o.id_o)/TIMESTAMPDIFF(MONTH,MIN(o.o_date),MAX(o.o_date))) AS freq,\n",
    "      ROUND(AVG(o.price),2) as avg_price\n",
    "    FROM {current_db} o\n",
    "    GROUP BY o.user_id) AS t2\n",
    "    WHERE t2.freq >2 AND t2.avg_price <= 1000;\n",
    "    \"\"\", con=mydb)\n",
    "df_new.shape"
   ]
  },
  {
   "cell_type": "code",
   "execution_count": 71,
   "metadata": {
    "Collapsed": "false"
   },
   "outputs": [
    {
     "name": "stdout",
     "output_type": "stream",
     "text": [
      "Wall time: 54.9 s\n"
     ]
    },
    {
     "data": {
      "text/plain": [
       "(334087, 3)"
      ]
     },
     "execution_count": 71,
     "metadata": {},
     "output_type": "execute_result"
    }
   ],
   "source": [
    "%%time\n",
    "pd.read_sql(\n",
    "    f\"\"\"\n",
    "    SELECT * from {current_db};\n",
    "    \"\"\", con=mydb)\n",
    "df_new.shape"
   ]
  },
  {
   "cell_type": "code",
   "execution_count": 70,
   "metadata": {
    "Collapsed": "false"
   },
   "outputs": [
    {
     "data": {
      "text/plain": [
       "334087"
      ]
     },
     "execution_count": 70,
     "metadata": {},
     "output_type": "execute_result"
    }
   ],
   "source": [
    "sum(df_new.shape[0],df_lost.shape[0])"
   ]
  },
  {
   "cell_type": "markdown",
   "metadata": {
    "Collapsed": "false"
   },
   "source": [
    "### 2. За январь 2017 смотрим, какое кол-во юзеров из п.1 купило в каждой группе и на какую сумму за месяц.(скрипты вам должны помочь)"
   ]
  },
  {
   "cell_type": "markdown",
   "metadata": {
    "Collapsed": "false"
   },
   "source": [
    "### 3. Подсчитываем вероятность перехода в покупающего по каждой группе и ср траты за январь в группе (как на занятии)."
   ]
  },
  {
   "cell_type": "markdown",
   "metadata": {
    "Collapsed": "false"
   },
   "source": [
    "### 4. В идеале сделать тоже самое на февраль, март, и до конца 17 года (чтобы оценить сезонность и рост трат за месяц)"
   ]
  },
  {
   "cell_type": "code",
   "execution_count": null,
   "metadata": {
    "Collapsed": "false"
   },
   "outputs": [],
   "source": [
    "%%time\n",
    "mydb.cursor().execute(\n",
    "    \"\"\"\n",
    "    CREATE TABLE time_user_ym_s\n",
    "    SELECT\n",
    "      user_id,\n",
    "      DATE_FORMAT(o_date, '%y%m') AS ym,\n",
    "      SUM(price) AS s\n",
    "    FROM orders_20190822 o\n",
    "    GROUP BY user_id, DATE_FORMAT(o_date, '%y%m');\n",
    "    \"\"\"\n",
    ")\n",
    "mydb.commit()"
   ]
  },
  {
   "cell_type": "code",
   "execution_count": null,
   "metadata": {
    "Collapsed": "false"
   },
   "outputs": [],
   "source": [
    "pd.read_sql(f\"SELECT * FROM time_user_ym_s\", con=mydb)"
   ]
  },
  {
   "cell_type": "code",
   "execution_count": null,
   "metadata": {
    "Collapsed": "false"
   },
   "outputs": [],
   "source": []
  },
  {
   "cell_type": "code",
   "execution_count": null,
   "metadata": {
    "Collapsed": "false"
   },
   "outputs": [],
   "source": []
  },
  {
   "cell_type": "code",
   "execution_count": null,
   "metadata": {
    "Collapsed": "false"
   },
   "outputs": [],
   "source": []
  },
  {
   "cell_type": "code",
   "execution_count": null,
   "metadata": {
    "Collapsed": "false"
   },
   "outputs": [],
   "source": []
  },
  {
   "cell_type": "markdown",
   "metadata": {
    "Collapsed": "false"
   },
   "source": [
    "# Закрытие сессии"
   ]
  },
  {
   "cell_type": "code",
   "execution_count": null,
   "metadata": {
    "Collapsed": "false"
   },
   "outputs": [],
   "source": [
    "mydb.close()"
   ]
  },
  {
   "cell_type": "code",
   "execution_count": null,
   "metadata": {
    "Collapsed": "false"
   },
   "outputs": [],
   "source": []
  }
 ],
 "metadata": {
  "kernelspec": {
   "display_name": "Python 3",
   "language": "python",
   "name": "python3"
  },
  "language_info": {
   "codemirror_mode": {
    "name": "ipython",
    "version": 3
   },
   "file_extension": ".py",
   "mimetype": "text/x-python",
   "name": "python",
   "nbconvert_exporter": "python",
   "pygments_lexer": "ipython3",
   "version": "3.7.6"
  },
  "toc-autonumbering": false,
  "toc-showmarkdowntxt": false
 },
 "nbformat": 4,
 "nbformat_minor": 4
}
