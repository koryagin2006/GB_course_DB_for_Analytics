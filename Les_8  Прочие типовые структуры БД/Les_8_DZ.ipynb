{
 "cells": [
  {
   "cell_type": "markdown",
   "metadata": {
    "Collapsed": "false"
   },
   "source": [
    "# Задача"
   ]
  },
  {
   "cell_type": "markdown",
   "metadata": {
    "Collapsed": "false"
   },
   "source": [
    "ДЗ делаем по бд orders\n",
    "\n",
    "В качестве ДЗ сделаем карту поведения пользователей.\n",
    "\n",
    "Мы обсуждали, что всех пользователей можно разделить, к примеру, на \n",
    "- !New (совершили только 1 покупку), \n",
    "- Regular (совершили 2 или более на сумму не более стольки-то), \n",
    "- Vip (совершили дорогие покупки и достаточно часто), \n",
    "- ! Lost (раньше покупали хотя бы раз и с даты последней покупки прошло больше 3 месяцев).\n",
    "\n",
    "Вся база должна войти в эти гурппы (т.е. каждый пользователь должен попадать только в одну из этих групп).\n",
    "\n",
    "Задача:\n",
    "1. Уточнить критерии групп New,Regular,Vip,Lost\n",
    "2. По состоянию на 1.01.2017 понимаем, кто попадает в какую группу, подсчитываем кол-во пользователей в каждой.\n",
    "3. По состоянию на 1.02.2017 понимаем, кто вышел из каждой из групп, а кто вошел.\n",
    "4. Аналогично смотрим состояние на 1.03.2017, понимаем кто вышел из каждой из групп, а кто вошел.\n",
    "5. В итоге делаем вывод, какая группа уменьшается, какая увеличивается и продумываем, в чем может быть причина.\n",
    "\n",
    "Присылайте отчет в pdf\n",
    "*/"
   ]
  },
  {
   "cell_type": "markdown",
   "metadata": {
    "Collapsed": "false"
   },
   "source": [
    "# Подготовка"
   ]
  },
  {
   "cell_type": "markdown",
   "metadata": {
    "Collapsed": "false"
   },
   "source": [
    "## Подключение библиотек"
   ]
  },
  {
   "cell_type": "code",
   "execution_count": 1,
   "metadata": {
    "Collapsed": "false"
   },
   "outputs": [],
   "source": [
    "import pymysql.cursors\n",
    "import pandas as pd\n",
    "from pprint import pprint\n",
    "import matplotlib.pyplot as plt\n",
    "import getpass"
   ]
  },
  {
   "cell_type": "markdown",
   "metadata": {
    "Collapsed": "false"
   },
   "source": [
    "## Подключение к базе данных"
   ]
  },
  {
   "cell_type": "code",
   "execution_count": 2,
   "metadata": {
    "Collapsed": "false"
   },
   "outputs": [
    {
     "name": "stdout",
     "output_type": "stream",
     "text": [
      "connect successful!!\n"
     ]
    }
   ],
   "source": [
    "# password_mysql = getpass.getpass(prompt=\"Введите пароль от MySQL-сервера: \")\n",
    "password_mysql = \"pass123\"\n",
    "mydb = pymysql.connect(host=\"127.0.0.1\",\n",
    "                             user='root',\n",
    "                             password=password_mysql, \n",
    "                             db='db_analyt_loc',\n",
    "                             charset='utf8mb4',\n",
    "                             cursorclass=pymysql.cursors.DictCursor)\n",
    " \n",
    "print (\"connect successful!!\")"
   ]
  },
  {
   "cell_type": "code",
   "execution_count": 30,
   "metadata": {
    "Collapsed": "false"
   },
   "outputs": [
    {
     "data": {
      "text/html": [
       "<div>\n",
       "<style scoped>\n",
       "    .dataframe tbody tr th:only-of-type {\n",
       "        vertical-align: middle;\n",
       "    }\n",
       "\n",
       "    .dataframe tbody tr th {\n",
       "        vertical-align: top;\n",
       "    }\n",
       "\n",
       "    .dataframe thead th {\n",
       "        text-align: right;\n",
       "    }\n",
       "</style>\n",
       "<table border=\"1\" class=\"dataframe\">\n",
       "  <thead>\n",
       "    <tr style=\"text-align: right;\">\n",
       "      <th></th>\n",
       "      <th>Tables_in_db_analyt_loc</th>\n",
       "    </tr>\n",
       "  </thead>\n",
       "  <tbody>\n",
       "    <tr>\n",
       "      <th>0</th>\n",
       "      <td>orders_20190822</td>\n",
       "    </tr>\n",
       "    <tr>\n",
       "      <th>1</th>\n",
       "      <td>orders_all</td>\n",
       "    </tr>\n",
       "    <tr>\n",
       "      <th>2</th>\n",
       "      <td>time_user_b</td>\n",
       "    </tr>\n",
       "    <tr>\n",
       "      <th>3</th>\n",
       "      <td>time_user_ym_s</td>\n",
       "    </tr>\n",
       "    <tr>\n",
       "      <th>4</th>\n",
       "      <td>users_for_merg</td>\n",
       "    </tr>\n",
       "  </tbody>\n",
       "</table>\n",
       "</div>"
      ],
      "text/plain": [
       "  Tables_in_db_analyt_loc\n",
       "0         orders_20190822\n",
       "1              orders_all\n",
       "2             time_user_b\n",
       "3          time_user_ym_s\n",
       "4          users_for_merg"
      ]
     },
     "execution_count": 30,
     "metadata": {},
     "output_type": "execute_result"
    }
   ],
   "source": [
    "def show_tables():\n",
    "    return pd.read_sql(\"\"\"SHOW TABLES FROM db_analyt_loc;\"\"\", con=mydb)\n",
    "show_tables()"
   ]
  },
  {
   "cell_type": "markdown",
   "metadata": {
    "Collapsed": "false"
   },
   "source": [
    "1. Уточнить критерии групп New,Regular,Vip,Lost\n"
   ]
  },
  {
   "cell_type": "markdown",
   "metadata": {
    "Collapsed": "false"
   },
   "source": [
    "## 2. По состоянию на 1.01.2017 понимаем, кто попадает в какую группу, подсчитываем кол-во пользователей в каждой."
   ]
  },
  {
   "cell_type": "code",
   "execution_count": 90,
   "metadata": {
    "Collapsed": "false"
   },
   "outputs": [],
   "source": [
    "current_db = 'orders_20190822'"
   ]
  },
  {
   "cell_type": "code",
   "execution_count": 91,
   "metadata": {
    "Collapsed": "false"
   },
   "outputs": [],
   "source": [
    "date = ['\\'2017-01-01\\'','\\'2017-02-01\\'']"
   ]
  },
  {
   "cell_type": "code",
   "execution_count": 97,
   "metadata": {
    "Collapsed": "false"
   },
   "outputs": [
    {
     "name": "stdout",
     "output_type": "stream",
     "text": [
      "Wall time: 17.8 s\n"
     ]
    },
    {
     "data": {
      "text/plain": [
       "(445092, 6)"
      ]
     },
     "execution_count": 97,
     "metadata": {},
     "output_type": "execute_result"
    }
   ],
   "source": [
    "%%time\n",
    "df = pd.read_sql(\n",
    "    f\"\"\"\n",
    "    SELECT\n",
    "      *, DATE({date[0]}) AS date\n",
    "    FROM (\n",
    "    SELECT \n",
    "        user_id,\n",
    "        TIMESTAMPDIFF(MONTH,MAX(o_date),DATE('2017-12-31')) AS period_from_last_ord,\n",
    "      ROUND(COUNT(id_o)/TIMESTAMPDIFF(DAY,MIN(o_date),MAX(o_date)),0) AS freq,\n",
    "      ROUND(AVG(price),2) as avg_price,\n",
    "      COUNT(id_o) AS orders_per_user\n",
    "    FROM (SELECT * FROM {current_db} WHERE o_date < {date[0]}) AS o2\n",
    "    GROUP BY user_id) AS t;\n",
    "    \"\"\", con=mydb)\n",
    "df.shape"
   ]
  },
  {
   "cell_type": "code",
   "execution_count": 98,
   "metadata": {
    "Collapsed": "false"
   },
   "outputs": [
    {
     "name": "stdout",
     "output_type": "stream",
     "text": [
      "Wall time: 19.9 s\n"
     ]
    },
    {
     "data": {
      "text/plain": [
       "(445092, 6)"
      ]
     },
     "execution_count": 98,
     "metadata": {},
     "output_type": "execute_result"
    }
   ],
   "source": [
    "%%time\n",
    "df_2 = pd.read_sql(\n",
    "    f\"\"\"\n",
    "    SELECT\n",
    "      *, DATE({date[1]}) AS date\n",
    "    FROM (\n",
    "    SELECT \n",
    "        user_id,\n",
    "        TIMESTAMPDIFF(MONTH,MAX(o_date),DATE('2017-12-31')) AS period_from_last_ord,\n",
    "      ROUND(COUNT(id_o)/TIMESTAMPDIFF(DAY,MIN(o_date),MAX(o_date)),0) AS freq,\n",
    "      ROUND(AVG(price),2) as avg_price,\n",
    "      COUNT(id_o) AS orders_per_user\n",
    "    FROM (SELECT * FROM {current_db} WHERE o_date < {date[1]}) AS o2\n",
    "    GROUP BY user_id) AS t;\n",
    "    \"\"\", con=mydb)\n",
    "df.shape"
   ]
  },
  {
   "cell_type": "code",
   "execution_count": 99,
   "metadata": {
    "Collapsed": "false"
   },
   "outputs": [],
   "source": [
    "df = df.append(df_2, ignore_index=True)"
   ]
  },
  {
   "cell_type": "markdown",
   "metadata": {
    "Collapsed": "false"
   },
   "source": [
    "---"
   ]
  },
  {
   "cell_type": "code",
   "execution_count": 130,
   "metadata": {
    "Collapsed": "false"
   },
   "outputs": [
    {
     "name": "stdout",
     "output_type": "stream",
     "text": [
      "<class 'pandas.core.frame.DataFrame'>\n",
      "RangeIndex: 925924 entries, 0 to 925923\n",
      "Data columns (total 6 columns):\n",
      " #   Column                Non-Null Count   Dtype         \n",
      "---  ------                --------------   -----         \n",
      " 0   user_id               925924 non-null  int64         \n",
      " 1   period_from_last_ord  925924 non-null  int64         \n",
      " 2   freq                  196225 non-null  float64       \n",
      " 3   avg_price             925924 non-null  float64       \n",
      " 4   orders_per_user       925924 non-null  int64         \n",
      " 5   date                  925924 non-null  datetime64[ns]\n",
      "dtypes: datetime64[ns](1), float64(2), int64(3)\n",
      "memory usage: 42.4 MB\n"
     ]
    }
   ],
   "source": [
    "df['freq']"
   ]
  },
  {
   "cell_type": "code",
   "execution_count": 137,
   "metadata": {
    "Collapsed": "false"
   },
   "outputs": [
    {
     "data": {
      "image/png": "[encoded data removed]",
      "text/plain": [
       "<Figure size 432x288 with 1 Axes>"
      ]
     },
     "metadata": {
      "needs_background": "light"
     },
     "output_type": "display_data"
    }
   ],
   "source": [
    "df[df['date'] == '2017-01-01'].avg_price.plot()\n",
    "df[df['date'] == '2017-02-01'].avg_price.plot();"
   ]
  },
  {
   "cell_type": "code",
   "execution_count": 111,
   "metadata": {
    "Collapsed": "false"
   },
   "outputs": [],
   "source": [
    "df['date'] = pd.to_datetime(df['date'])"
   ]
  },
  {
   "cell_type": "code",
   "execution_count": 133,
   "metadata": {
    "Collapsed": "false"
   },
   "outputs": [
    {
     "data": {
      "text/html": [
       "<div>\n",
       "<style scoped>\n",
       "    .dataframe tbody tr th:only-of-type {\n",
       "        vertical-align: middle;\n",
       "    }\n",
       "\n",
       "    .dataframe tbody tr th {\n",
       "        vertical-align: top;\n",
       "    }\n",
       "\n",
       "    .dataframe thead th {\n",
       "        text-align: right;\n",
       "    }\n",
       "</style>\n",
       "<table border=\"1\" class=\"dataframe\">\n",
       "  <thead>\n",
       "    <tr style=\"text-align: right;\">\n",
       "      <th></th>\n",
       "      <th>user_id</th>\n",
       "      <th>period_from_last_ord</th>\n",
       "      <th>freq</th>\n",
       "      <th>avg_price</th>\n",
       "      <th>orders_per_user</th>\n",
       "      <th>date</th>\n",
       "    </tr>\n",
       "  </thead>\n",
       "  <tbody>\n",
       "    <tr>\n",
       "      <th>0</th>\n",
       "      <td>337544</td>\n",
       "      <td>13</td>\n",
       "      <td>0.0065</td>\n",
       "      <td>1243.55</td>\n",
       "      <td>2</td>\n",
       "      <td>2017-01-01</td>\n",
       "    </tr>\n",
       "    <tr>\n",
       "      <th>1</th>\n",
       "      <td>171642</td>\n",
       "      <td>13</td>\n",
       "      <td>0.0671</td>\n",
       "      <td>951.62</td>\n",
       "      <td>22</td>\n",
       "      <td>2017-01-01</td>\n",
       "    </tr>\n",
       "    <tr>\n",
       "      <th>2</th>\n",
       "      <td>260596</td>\n",
       "      <td>13</td>\n",
       "      <td>0.0276</td>\n",
       "      <td>588.54</td>\n",
       "      <td>9</td>\n",
       "      <td>2017-01-01</td>\n",
       "    </tr>\n",
       "    <tr>\n",
       "      <th>3</th>\n",
       "      <td>1105609</td>\n",
       "      <td>23</td>\n",
       "      <td>NaN</td>\n",
       "      <td>752.50</td>\n",
       "      <td>1</td>\n",
       "      <td>2017-01-01</td>\n",
       "    </tr>\n",
       "    <tr>\n",
       "      <th>4</th>\n",
       "      <td>982696</td>\n",
       "      <td>23</td>\n",
       "      <td>NaN</td>\n",
       "      <td>4410.00</td>\n",
       "      <td>1</td>\n",
       "      <td>2017-01-01</td>\n",
       "    </tr>\n",
       "  </tbody>\n",
       "</table>\n",
       "</div>"
      ],
      "text/plain": [
       "   user_id  period_from_last_ord    freq  avg_price  orders_per_user  \\\n",
       "0   337544                    13  0.0065    1243.55                2   \n",
       "1   171642                    13  0.0671     951.62               22   \n",
       "2   260596                    13  0.0276     588.54                9   \n",
       "3  1105609                    23     NaN     752.50                1   \n",
       "4   982696                    23     NaN    4410.00                1   \n",
       "\n",
       "        date  \n",
       "0 2017-01-01  \n",
       "1 2017-01-01  \n",
       "2 2017-01-01  \n",
       "3 2017-01-01  \n",
       "4 2017-01-01  "
      ]
     },
     "execution_count": 133,
     "metadata": {},
     "output_type": "execute_result"
    }
   ],
   "source": [
    "df.head()"
   ]
  },
  {
   "cell_type": "code",
   "execution_count": 114,
   "metadata": {
    "Collapsed": "false"
   },
   "outputs": [
    {
     "data": {
      "text/html": [
       "<div>\n",
       "<style scoped>\n",
       "    .dataframe tbody tr th:only-of-type {\n",
       "        vertical-align: middle;\n",
       "    }\n",
       "\n",
       "    .dataframe tbody tr th {\n",
       "        vertical-align: top;\n",
       "    }\n",
       "\n",
       "    .dataframe thead th {\n",
       "        text-align: right;\n",
       "    }\n",
       "</style>\n",
       "<table border=\"1\" class=\"dataframe\">\n",
       "  <thead>\n",
       "    <tr style=\"text-align: right;\">\n",
       "      <th></th>\n",
       "      <th>user_id</th>\n",
       "      <th>period_from_last_ord</th>\n",
       "      <th>freq</th>\n",
       "      <th>avg_price</th>\n",
       "      <th>orders_per_user</th>\n",
       "    </tr>\n",
       "  </thead>\n",
       "  <tbody>\n",
       "    <tr>\n",
       "      <th>count</th>\n",
       "      <td>9.259240e+05</td>\n",
       "      <td>925924.000000</td>\n",
       "      <td>196225.000000</td>\n",
       "      <td>925924.000000</td>\n",
       "      <td>925924.000000</td>\n",
       "    </tr>\n",
       "    <tr>\n",
       "      <th>mean</th>\n",
       "      <td>1.702465e+06</td>\n",
       "      <td>15.485669</td>\n",
       "      <td>0.173906</td>\n",
       "      <td>2203.869145</td>\n",
       "      <td>1.942748</td>\n",
       "    </tr>\n",
       "    <tr>\n",
       "      <th>std</th>\n",
       "      <td>7.407655e+05</td>\n",
       "      <td>3.614381</td>\n",
       "      <td>0.494929</td>\n",
       "      <td>3210.207586</td>\n",
       "      <td>8.454946</td>\n",
       "    </tr>\n",
       "    <tr>\n",
       "      <th>min</th>\n",
       "      <td>0.000000e+00</td>\n",
       "      <td>11.000000</td>\n",
       "      <td>0.005100</td>\n",
       "      <td>0.000000</td>\n",
       "      <td>1.000000</td>\n",
       "    </tr>\n",
       "    <tr>\n",
       "      <th>25%</th>\n",
       "      <td>1.249336e+06</td>\n",
       "      <td>12.000000</td>\n",
       "      <td>0.021700</td>\n",
       "      <td>785.400000</td>\n",
       "      <td>1.000000</td>\n",
       "    </tr>\n",
       "    <tr>\n",
       "      <th>50%</th>\n",
       "      <td>1.730607e+06</td>\n",
       "      <td>14.000000</td>\n",
       "      <td>0.041300</td>\n",
       "      <td>1417.500000</td>\n",
       "      <td>1.000000</td>\n",
       "    </tr>\n",
       "    <tr>\n",
       "      <th>75%</th>\n",
       "      <td>2.296420e+06</td>\n",
       "      <td>18.000000</td>\n",
       "      <td>0.090900</td>\n",
       "      <td>2517.900000</td>\n",
       "      <td>1.000000</td>\n",
       "    </tr>\n",
       "    <tr>\n",
       "      <th>max</th>\n",
       "      <td>3.039754e+06</td>\n",
       "      <td>23.000000</td>\n",
       "      <td>40.000000</td>\n",
       "      <td>616994.000000</td>\n",
       "      <td>1740.000000</td>\n",
       "    </tr>\n",
       "  </tbody>\n",
       "</table>\n",
       "</div>"
      ],
      "text/plain": [
       "            user_id  period_from_last_ord           freq      avg_price  \\\n",
       "count  9.259240e+05         925924.000000  196225.000000  925924.000000   \n",
       "mean   1.702465e+06             15.485669       0.173906    2203.869145   \n",
       "std    7.407655e+05              3.614381       0.494929    3210.207586   \n",
       "min    0.000000e+00             11.000000       0.005100       0.000000   \n",
       "25%    1.249336e+06             12.000000       0.021700     785.400000   \n",
       "50%    1.730607e+06             14.000000       0.041300    1417.500000   \n",
       "75%    2.296420e+06             18.000000       0.090900    2517.900000   \n",
       "max    3.039754e+06             23.000000      40.000000  616994.000000   \n",
       "\n",
       "       orders_per_user  \n",
       "count    925924.000000  \n",
       "mean          1.942748  \n",
       "std           8.454946  \n",
       "min           1.000000  \n",
       "25%           1.000000  \n",
       "50%           1.000000  \n",
       "75%           1.000000  \n",
       "max        1740.000000  "
      ]
     },
     "execution_count": 114,
     "metadata": {},
     "output_type": "execute_result"
    }
   ],
   "source": [
    "df.describe()"
   ]
  },
  {
   "cell_type": "markdown",
   "metadata": {
    "Collapsed": "false"
   },
   "source": [
    "### 2. За январь 2017 смотрим, какое кол-во юзеров из п.1 купило в каждой группе и на какую сумму за месяц.(скрипты вам должны помочь)"
   ]
  },
  {
   "cell_type": "code",
   "execution_count": null,
   "metadata": {
    "Collapsed": "false"
   },
   "outputs": [],
   "source": []
  },
  {
   "cell_type": "code",
   "execution_count": null,
   "metadata": {
    "Collapsed": "false"
   },
   "outputs": [],
   "source": []
  },
  {
   "cell_type": "markdown",
   "metadata": {
    "Collapsed": "false"
   },
   "source": [
    "### 3. Подсчитываем вероятность перехода в покупающего по каждой группе и ср траты за январь в группе (как на занятии)."
   ]
  },
  {
   "cell_type": "markdown",
   "metadata": {
    "Collapsed": "false"
   },
   "source": [
    "### 4. В идеале сделать тоже самое на февраль, март, и до конца 17 года (чтобы оценить сезонность и рост трат за месяц)"
   ]
  },
  {
   "cell_type": "code",
   "execution_count": null,
   "metadata": {
    "Collapsed": "false"
   },
   "outputs": [],
   "source": [
    "%%time\n",
    "mydb.cursor().execute(\n",
    "    \"\"\"\n",
    "    CREATE TABLE time_user_ym_s\n",
    "    SELECT\n",
    "      user_id,\n",
    "      DATE_FORMAT(o_date, '%y%m') AS ym,\n",
    "      SUM(price) AS s\n",
    "    FROM orders_20190822 o\n",
    "    GROUP BY user_id, DATE_FORMAT(o_date, '%y%m');\n",
    "    \"\"\"\n",
    ")\n",
    "mydb.commit()"
   ]
  },
  {
   "cell_type": "code",
   "execution_count": null,
   "metadata": {
    "Collapsed": "false"
   },
   "outputs": [],
   "source": [
    "pd.read_sql(f\"SELECT * FROM time_user_ym_s\", con=mydb)"
   ]
  },
  {
   "cell_type": "code",
   "execution_count": null,
   "metadata": {
    "Collapsed": "false"
   },
   "outputs": [],
   "source": []
  },
  {
   "cell_type": "code",
   "execution_count": null,
   "metadata": {
    "Collapsed": "false"
   },
   "outputs": [],
   "source": []
  },
  {
   "cell_type": "code",
   "execution_count": null,
   "metadata": {
    "Collapsed": "false"
   },
   "outputs": [],
   "source": []
  },
  {
   "cell_type": "code",
   "execution_count": null,
   "metadata": {
    "Collapsed": "false"
   },
   "outputs": [],
   "source": []
  },
  {
   "cell_type": "markdown",
   "metadata": {
    "Collapsed": "false"
   },
   "source": [
    "# Закрытие сессии"
   ]
  },
  {
   "cell_type": "code",
   "execution_count": null,
   "metadata": {
    "Collapsed": "false"
   },
   "outputs": [],
   "source": [
    "mydb.close()"
   ]
  },
  {
   "cell_type": "code",
   "execution_count": null,
   "metadata": {
    "Collapsed": "false"
   },
   "outputs": [],
   "source": []
  }
 ],
 "metadata": {
  "kernelspec": {
   "display_name": "Python 3",
   "language": "python",
   "name": "python3"
  },
  "language_info": {
   "codemirror_mode": {
    "name": "ipython",
    "version": 3
   },
   "file_extension": ".py",
   "mimetype": "text/x-python",
   "name": "python",
   "nbconvert_exporter": "python",
   "pygments_lexer": "ipython3",
   "version": "3.7.6"
  },
  "toc-autonumbering": false,
  "toc-showmarkdowntxt": false
 },
 "nbformat": 4,
 "nbformat_minor": 4
}
