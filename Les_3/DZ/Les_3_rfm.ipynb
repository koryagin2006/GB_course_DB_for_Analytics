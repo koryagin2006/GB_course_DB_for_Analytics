{
 "cells": [
  {
   "cell_type": "code",
   "execution_count": 2,
   "metadata": {
    "Collapsed": "false"
   },
   "outputs": [],
   "source": [
    "import pandas as pd"
   ]
  },
  {
   "cell_type": "code",
   "execution_count": 46,
   "metadata": {
    "Collapsed": "false"
   },
   "outputs": [
    {
     "data": {
      "text/html": [
       "<div>\n",
       "<style scoped>\n",
       "    .dataframe tbody tr th:only-of-type {\n",
       "        vertical-align: middle;\n",
       "    }\n",
       "\n",
       "    .dataframe tbody tr th {\n",
       "        vertical-align: top;\n",
       "    }\n",
       "\n",
       "    .dataframe thead th {\n",
       "        text-align: right;\n",
       "    }\n",
       "</style>\n",
       "<table border=\"1\" class=\"dataframe\">\n",
       "  <thead>\n",
       "    <tr style=\"text-align: right;\">\n",
       "      <th></th>\n",
       "      <th>user_id</th>\n",
       "      <th>period_from_last_ord</th>\n",
       "      <th>freq</th>\n",
       "      <th>avg_price</th>\n",
       "    </tr>\n",
       "  </thead>\n",
       "  <tbody>\n",
       "    <tr>\n",
       "      <th>0</th>\n",
       "      <td>337544</td>\n",
       "      <td>423</td>\n",
       "      <td>1.0</td>\n",
       "      <td>1243,55</td>\n",
       "    </tr>\n",
       "    <tr>\n",
       "      <th>1</th>\n",
       "      <td>171642</td>\n",
       "      <td>6</td>\n",
       "      <td>1.0</td>\n",
       "      <td>1293,09</td>\n",
       "    </tr>\n",
       "    <tr>\n",
       "      <th>2</th>\n",
       "      <td>260596</td>\n",
       "      <td>91</td>\n",
       "      <td>1.0</td>\n",
       "      <td>718,9</td>\n",
       "    </tr>\n",
       "    <tr>\n",
       "      <th>3</th>\n",
       "      <td>1105609</td>\n",
       "      <td>730</td>\n",
       "      <td>NaN</td>\n",
       "      <td>752,5</td>\n",
       "    </tr>\n",
       "    <tr>\n",
       "      <th>4</th>\n",
       "      <td>982696</td>\n",
       "      <td>730</td>\n",
       "      <td>NaN</td>\n",
       "      <td>4410,0</td>\n",
       "    </tr>\n",
       "  </tbody>\n",
       "</table>\n",
       "</div>"
      ],
      "text/plain": [
       "   user_id  period_from_last_ord  freq avg_price\n",
       "0   337544                   423   1.0   1243,55\n",
       "1   171642                     6   1.0   1293,09\n",
       "2   260596                    91   1.0     718,9\n",
       "3  1105609                   730   NaN     752,5\n",
       "4   982696                   730   NaN    4410,0"
      ]
     },
     "execution_count": 46,
     "metadata": {},
     "output_type": "execute_result"
    }
   ],
   "source": [
    "df = pd.read_csv('for_rfm.csv',sep=';')\n",
    "df.head()"
   ]
  },
  {
   "cell_type": "code",
   "execution_count": 47,
   "metadata": {
    "Collapsed": "false"
   },
   "outputs": [
    {
     "name": "stdout",
     "output_type": "stream",
     "text": [
      "<class 'pandas.core.frame.DataFrame'>\n",
      "RangeIndex: 1015119 entries, 0 to 1015118\n",
      "Data columns (total 4 columns):\n",
      " #   Column                Non-Null Count    Dtype  \n",
      "---  ------                --------------    -----  \n",
      " 0   user_id               1015119 non-null  int64  \n",
      " 1   period_from_last_ord  1015119 non-null  int64  \n",
      " 2   freq                  206445 non-null   float64\n",
      " 3   avg_price             1015119 non-null  float64\n",
      "dtypes: float64(2), int64(2)\n",
      "memory usage: 31.0 MB\n"
     ]
    }
   ],
   "source": [
    "df['avg_price'].replace(regex=',', value='.', inplace=True)\n",
    "df['avg_price'] = pd.to_numeric(df['avg_price'])\n",
    "df.info()"
   ]
  },
  {
   "cell_type": "code",
   "execution_count": 48,
   "metadata": {
    "Collapsed": "false"
   },
   "outputs": [],
   "source": [
    "df.loc[df[\"period_from_last_ord\"] < 30, \"Recency\"] = 3\n",
    "df.loc[df[\"period_from_last_ord\"].between(30, 60), \"Recency\"] = 2\n",
    "df.loc[df[\"period_from_last_ord\"] > 60, \"Recency\"] = 1"
   ]
  },
  {
   "cell_type": "code",
   "execution_count": 49,
   "metadata": {
    "Collapsed": "false"
   },
   "outputs": [],
   "source": [
    "df.loc[df[\"freq\"] > 2, \"Frequency\"] = 3\n",
    "df.loc[df[\"freq\"] == 2, \"Frequency\"] = 2\n",
    "df.loc[df[\"freq\"] == 1, \"Frequency\"] = 1"
   ]
  },
  {
   "cell_type": "code",
   "execution_count": 50,
   "metadata": {
    "Collapsed": "false"
   },
   "outputs": [],
   "source": [
    "df.loc[df[\"avg_price\"] > 2000, \"Monetary\"] = 3\n",
    "df.loc[df[\"avg_price\"].between(500, 2000) , \"Monetary\"] = 2\n",
    "df.loc[df[\"avg_price\"] < 500, \"Monetary\"] = 1"
   ]
  },
  {
   "cell_type": "code",
   "execution_count": 51,
   "metadata": {
    "Collapsed": "false"
   },
   "outputs": [],
   "source": [
    "df[\"Frequency\"] = df[\"Frequency\"].fillna(0)"
   ]
  },
  {
   "cell_type": "code",
   "execution_count": 52,
   "metadata": {
    "Collapsed": "false"
   },
   "outputs": [],
   "source": [
    "df['Recency'] = df['Recency'].astype('int')\n",
    "df['Frequency'] = df['Frequency'].astype('int')\n",
    "df['Monetary'] = df['Monetary'].astype('int');"
   ]
  },
  {
   "cell_type": "code",
   "execution_count": 53,
   "metadata": {
    "Collapsed": "false"
   },
   "outputs": [],
   "source": [
    "# df.drop(df.columns[[1,2,3]], axis='columns', inplace=True)\n",
    "# df.head(3)"
   ]
  },
  {
   "cell_type": "code",
   "execution_count": 54,
   "metadata": {
    "Collapsed": "false"
   },
   "outputs": [],
   "source": [
    "df['Recency'] = df['Recency'].astype('str')\n",
    "df['Frequency'] = df['Frequency'].astype('str')\n",
    "df['Monetary'] = df['Monetary'].astype('str');"
   ]
  },
  {
   "cell_type": "code",
   "execution_count": 55,
   "metadata": {
    "Collapsed": "false"
   },
   "outputs": [],
   "source": [
    "df[\"rfm\"] = df[\"Recency\"].map(str) + df[\"Frequency\"] + df['Monetary']"
   ]
  },
  {
   "cell_type": "code",
   "execution_count": 56,
   "metadata": {
    "Collapsed": "false"
   },
   "outputs": [
    {
     "data": {
      "text/html": [
       "<div>\n",
       "<style scoped>\n",
       "    .dataframe tbody tr th:only-of-type {\n",
       "        vertical-align: middle;\n",
       "    }\n",
       "\n",
       "    .dataframe tbody tr th {\n",
       "        vertical-align: top;\n",
       "    }\n",
       "\n",
       "    .dataframe thead th {\n",
       "        text-align: right;\n",
       "    }\n",
       "</style>\n",
       "<table border=\"1\" class=\"dataframe\">\n",
       "  <thead>\n",
       "    <tr style=\"text-align: right;\">\n",
       "      <th></th>\n",
       "      <th>user_id</th>\n",
       "      <th>period_from_last_ord</th>\n",
       "      <th>freq</th>\n",
       "      <th>avg_price</th>\n",
       "      <th>Recency</th>\n",
       "      <th>Frequency</th>\n",
       "      <th>Monetary</th>\n",
       "      <th>rfm</th>\n",
       "    </tr>\n",
       "  </thead>\n",
       "  <tbody>\n",
       "    <tr>\n",
       "      <th>0</th>\n",
       "      <td>337544</td>\n",
       "      <td>423</td>\n",
       "      <td>1.0</td>\n",
       "      <td>1243.55</td>\n",
       "      <td>1</td>\n",
       "      <td>1</td>\n",
       "      <td>2</td>\n",
       "      <td>112</td>\n",
       "    </tr>\n",
       "    <tr>\n",
       "      <th>1</th>\n",
       "      <td>171642</td>\n",
       "      <td>6</td>\n",
       "      <td>1.0</td>\n",
       "      <td>1293.09</td>\n",
       "      <td>3</td>\n",
       "      <td>1</td>\n",
       "      <td>2</td>\n",
       "      <td>312</td>\n",
       "    </tr>\n",
       "    <tr>\n",
       "      <th>2</th>\n",
       "      <td>260596</td>\n",
       "      <td>91</td>\n",
       "      <td>1.0</td>\n",
       "      <td>718.90</td>\n",
       "      <td>1</td>\n",
       "      <td>1</td>\n",
       "      <td>2</td>\n",
       "      <td>112</td>\n",
       "    </tr>\n",
       "  </tbody>\n",
       "</table>\n",
       "</div>"
      ],
      "text/plain": [
       "   user_id  period_from_last_ord  freq  avg_price Recency Frequency Monetary  \\\n",
       "0   337544                   423   1.0    1243.55       1         1        2   \n",
       "1   171642                     6   1.0    1293.09       3         1        2   \n",
       "2   260596                    91   1.0     718.90       1         1        2   \n",
       "\n",
       "   rfm  \n",
       "0  112  \n",
       "1  312  \n",
       "2  112  "
      ]
     },
     "execution_count": 56,
     "metadata": {},
     "output_type": "execute_result"
    }
   ],
   "source": [
    "df.head(3)"
   ]
  },
  {
   "cell_type": "code",
   "execution_count": 43,
   "metadata": {
    "Collapsed": "false"
   },
   "outputs": [
    {
     "data": {
      "text/plain": [
       "36"
      ]
     },
     "execution_count": 43,
     "metadata": {},
     "output_type": "execute_result"
    }
   ],
   "source": [
    "df['rfm'].nunique()"
   ]
  },
  {
   "cell_type": "code",
   "execution_count": 71,
   "metadata": {
    "Collapsed": "false"
   },
   "outputs": [],
   "source": [
    "df.to_csv('for_rfm_2.csv')"
   ]
  },
  {
   "cell_type": "code",
   "execution_count": 76,
   "metadata": {
    "Collapsed": "false"
   },
   "outputs": [
    {
     "data": {
      "text/html": [
       "<div>\n",
       "<style scoped>\n",
       "    .dataframe tbody tr th:only-of-type {\n",
       "        vertical-align: middle;\n",
       "    }\n",
       "\n",
       "    .dataframe tbody tr th {\n",
       "        vertical-align: top;\n",
       "    }\n",
       "\n",
       "    .dataframe thead th {\n",
       "        text-align: right;\n",
       "    }\n",
       "</style>\n",
       "<table border=\"1\" class=\"dataframe\">\n",
       "  <thead>\n",
       "    <tr style=\"text-align: right;\">\n",
       "      <th></th>\n",
       "      <th>кол-во пользователей в группе</th>\n",
       "      <th>сумма ТО в группе</th>\n",
       "    </tr>\n",
       "    <tr>\n",
       "      <th>rfm</th>\n",
       "      <th></th>\n",
       "      <th></th>\n",
       "    </tr>\n",
       "  </thead>\n",
       "  <tbody>\n",
       "    <tr>\n",
       "      <th>101</th>\n",
       "      <td>89839</td>\n",
       "      <td>2.884936e+07</td>\n",
       "    </tr>\n",
       "    <tr>\n",
       "      <th>102</th>\n",
       "      <td>337852</td>\n",
       "      <td>3.920321e+08</td>\n",
       "    </tr>\n",
       "    <tr>\n",
       "      <th>103</th>\n",
       "      <td>224146</td>\n",
       "      <td>1.088471e+09</td>\n",
       "    </tr>\n",
       "    <tr>\n",
       "      <th>111</th>\n",
       "      <td>6930</td>\n",
       "      <td>2.521825e+06</td>\n",
       "    </tr>\n",
       "    <tr>\n",
       "      <th>112</th>\n",
       "      <td>72418</td>\n",
       "      <td>8.890277e+07</td>\n",
       "    </tr>\n",
       "    <tr>\n",
       "      <th>113</th>\n",
       "      <td>51465</td>\n",
       "      <td>2.131507e+08</td>\n",
       "    </tr>\n",
       "    <tr>\n",
       "      <th>121</th>\n",
       "      <td>380</td>\n",
       "      <td>1.253827e+05</td>\n",
       "    </tr>\n",
       "    <tr>\n",
       "      <th>122</th>\n",
       "      <td>2170</td>\n",
       "      <td>2.552825e+06</td>\n",
       "    </tr>\n",
       "    <tr>\n",
       "      <th>123</th>\n",
       "      <td>1947</td>\n",
       "      <td>1.063653e+07</td>\n",
       "    </tr>\n",
       "    <tr>\n",
       "      <th>131</th>\n",
       "      <td>105</td>\n",
       "      <td>3.540086e+04</td>\n",
       "    </tr>\n",
       "    <tr>\n",
       "      <th>132</th>\n",
       "      <td>409</td>\n",
       "      <td>4.847116e+05</td>\n",
       "    </tr>\n",
       "    <tr>\n",
       "      <th>133</th>\n",
       "      <td>408</td>\n",
       "      <td>2.398748e+06</td>\n",
       "    </tr>\n",
       "    <tr>\n",
       "      <th>201</th>\n",
       "      <td>6951</td>\n",
       "      <td>2.391888e+06</td>\n",
       "    </tr>\n",
       "    <tr>\n",
       "      <th>202</th>\n",
       "      <td>33021</td>\n",
       "      <td>3.833222e+07</td>\n",
       "    </tr>\n",
       "    <tr>\n",
       "      <th>203</th>\n",
       "      <td>24576</td>\n",
       "      <td>1.150183e+08</td>\n",
       "    </tr>\n",
       "    <tr>\n",
       "      <th>211</th>\n",
       "      <td>641</td>\n",
       "      <td>2.482406e+05</td>\n",
       "    </tr>\n",
       "    <tr>\n",
       "      <th>212</th>\n",
       "      <td>14198</td>\n",
       "      <td>1.828648e+07</td>\n",
       "    </tr>\n",
       "    <tr>\n",
       "      <th>213</th>\n",
       "      <td>12022</td>\n",
       "      <td>4.870791e+07</td>\n",
       "    </tr>\n",
       "    <tr>\n",
       "      <th>221</th>\n",
       "      <td>24</td>\n",
       "      <td>8.510660e+03</td>\n",
       "    </tr>\n",
       "    <tr>\n",
       "      <th>222</th>\n",
       "      <td>209</td>\n",
       "      <td>2.594925e+05</td>\n",
       "    </tr>\n",
       "    <tr>\n",
       "      <th>223</th>\n",
       "      <td>248</td>\n",
       "      <td>1.226348e+06</td>\n",
       "    </tr>\n",
       "    <tr>\n",
       "      <th>231</th>\n",
       "      <td>5</td>\n",
       "      <td>1.509120e+03</td>\n",
       "    </tr>\n",
       "    <tr>\n",
       "      <th>232</th>\n",
       "      <td>31</td>\n",
       "      <td>3.594196e+04</td>\n",
       "    </tr>\n",
       "    <tr>\n",
       "      <th>233</th>\n",
       "      <td>42</td>\n",
       "      <td>2.001908e+05</td>\n",
       "    </tr>\n",
       "    <tr>\n",
       "      <th>301</th>\n",
       "      <td>9150</td>\n",
       "      <td>3.148478e+06</td>\n",
       "    </tr>\n",
       "    <tr>\n",
       "      <th>302</th>\n",
       "      <td>49457</td>\n",
       "      <td>5.689548e+07</td>\n",
       "    </tr>\n",
       "    <tr>\n",
       "      <th>303</th>\n",
       "      <td>33682</td>\n",
       "      <td>1.410356e+08</td>\n",
       "    </tr>\n",
       "    <tr>\n",
       "      <th>311</th>\n",
       "      <td>938</td>\n",
       "      <td>3.707200e+05</td>\n",
       "    </tr>\n",
       "    <tr>\n",
       "      <th>312</th>\n",
       "      <td>23042</td>\n",
       "      <td>2.960555e+07</td>\n",
       "    </tr>\n",
       "    <tr>\n",
       "      <th>313</th>\n",
       "      <td>17975</td>\n",
       "      <td>6.773322e+07</td>\n",
       "    </tr>\n",
       "    <tr>\n",
       "      <th>321</th>\n",
       "      <td>38</td>\n",
       "      <td>1.266324e+04</td>\n",
       "    </tr>\n",
       "    <tr>\n",
       "      <th>322</th>\n",
       "      <td>336</td>\n",
       "      <td>4.038771e+05</td>\n",
       "    </tr>\n",
       "    <tr>\n",
       "      <th>323</th>\n",
       "      <td>312</td>\n",
       "      <td>1.607058e+06</td>\n",
       "    </tr>\n",
       "    <tr>\n",
       "      <th>331</th>\n",
       "      <td>8</td>\n",
       "      <td>3.158560e+03</td>\n",
       "    </tr>\n",
       "    <tr>\n",
       "      <th>332</th>\n",
       "      <td>58</td>\n",
       "      <td>6.570599e+04</td>\n",
       "    </tr>\n",
       "    <tr>\n",
       "      <th>333</th>\n",
       "      <td>86</td>\n",
       "      <td>3.628423e+05</td>\n",
       "    </tr>\n",
       "  </tbody>\n",
       "</table>\n",
       "</div>"
      ],
      "text/plain": [
       "     кол-во пользователей в группе  сумма ТО в группе\n",
       "rfm                                                  \n",
       "101                          89839       2.884936e+07\n",
       "102                         337852       3.920321e+08\n",
       "103                         224146       1.088471e+09\n",
       "111                           6930       2.521825e+06\n",
       "112                          72418       8.890277e+07\n",
       "113                          51465       2.131507e+08\n",
       "121                            380       1.253827e+05\n",
       "122                           2170       2.552825e+06\n",
       "123                           1947       1.063653e+07\n",
       "131                            105       3.540086e+04\n",
       "132                            409       4.847116e+05\n",
       "133                            408       2.398748e+06\n",
       "201                           6951       2.391888e+06\n",
       "202                          33021       3.833222e+07\n",
       "203                          24576       1.150183e+08\n",
       "211                            641       2.482406e+05\n",
       "212                          14198       1.828648e+07\n",
       "213                          12022       4.870791e+07\n",
       "221                             24       8.510660e+03\n",
       "222                            209       2.594925e+05\n",
       "223                            248       1.226348e+06\n",
       "231                              5       1.509120e+03\n",
       "232                             31       3.594196e+04\n",
       "233                             42       2.001908e+05\n",
       "301                           9150       3.148478e+06\n",
       "302                          49457       5.689548e+07\n",
       "303                          33682       1.410356e+08\n",
       "311                            938       3.707200e+05\n",
       "312                          23042       2.960555e+07\n",
       "313                          17975       6.773322e+07\n",
       "321                             38       1.266324e+04\n",
       "322                            336       4.038771e+05\n",
       "323                            312       1.607058e+06\n",
       "331                              8       3.158560e+03\n",
       "332                             58       6.570599e+04\n",
       "333                             86       3.628423e+05"
      ]
     },
     "execution_count": 76,
     "metadata": {},
     "output_type": "execute_result"
    }
   ],
   "source": [
    "df_2 = df.groupby('rfm').agg({'user_id': 'count', 'avg_price': 'sum'})\n",
    "df_2 = df_2.rename(columns={\n",
    "    'user_id': 'кол-во пользователей в группе',\n",
    "    'avg_price': 'сумма ТО в группе'})\n",
    "df_2"
   ]
  },
  {
   "cell_type": "code",
   "execution_count": 78,
   "metadata": {
    "Collapsed": "false"
   },
   "outputs": [],
   "source": [
    "df_2.to_excel('for_rfm_2.xlsx')"
   ]
  },
  {
   "cell_type": "code",
   "execution_count": null,
   "metadata": {
    "Collapsed": "false"
   },
   "outputs": [],
   "source": []
  }
 ],
 "metadata": {
  "kernelspec": {
   "display_name": "Python 3",
   "language": "python",
   "name": "python3"
  },
  "language_info": {
   "codemirror_mode": {
    "name": "ipython",
    "version": 3
   },
   "file_extension": ".py",
   "mimetype": "text/x-python",
   "name": "python",
   "nbconvert_exporter": "python",
   "pygments_lexer": "ipython3",
   "version": "3.7.6"
  }
 },
 "nbformat": 4,
 "nbformat_minor": 4
}
