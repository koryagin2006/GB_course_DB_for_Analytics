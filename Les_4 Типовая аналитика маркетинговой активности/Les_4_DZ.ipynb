{
 "cells": [
  {
   "cell_type": "markdown",
   "metadata": {
    "Collapsed": "false"
   },
   "source": [
    "# Задача"
   ]
  },
  {
   "cell_type": "markdown",
   "metadata": {
    "Collapsed": "false"
   },
   "source": [
    "ДЗ делаем по бд orders\n",
    "В качестве ДЗ сделаем карту поведения пользователей. Мы обсуждали, что всех пользователей можно разделить, к примеру, на New (совершили только 1 покупку), Regular (совершили 2 или более на сумму не более стольки-то), Vip (совершили дорогие покупки и достаточно часто), Lost (раньше покупали хотя бы раз и с даты последней покупки прошло больше 3 месяцев). Вся база должна войти в эти гурппы (т.е. каждый пользователь должен попадать только в одну из этих групп).\n",
    "\n",
    "**Задача**:\n",
    "1. Уточнить критерии групп New,Regular,Vip,Lost\n",
    "2. По состоянию на 1.01.2017 понимаем, кто попадает в какую группу, подсчитываем кол-во пользователей в каждой.\n",
    "3. По состоянию на 1.02.2017 понимаем, кто вышел из каждой из групп, а кто вошел.\n",
    "4. Аналогично смотрим состояние на 1.03.2017, понимаем кто вышел из каждой из групп, а кто вошел.\n",
    "5. В итоге делаем вывод, какая группа уменьшается, какая увеличивается и продумываем, в чем может быть причина.\n",
    "\n",
    "Присылайте отчет в pdf"
   ]
  },
  {
   "cell_type": "markdown",
   "metadata": {
    "Collapsed": "false"
   },
   "source": [
    "# Подготовка"
   ]
  },
  {
   "cell_type": "markdown",
   "metadata": {
    "Collapsed": "false"
   },
   "source": [
    "## Подключение библиотек"
   ]
  },
  {
   "cell_type": "code",
   "execution_count": 1,
   "metadata": {
    "Collapsed": "false"
   },
   "outputs": [],
   "source": [
    "import pymysql.cursors\n",
    "import pandas as pd\n",
    "from pprint import pprint\n",
    "import matplotlib.pyplot as plt\n",
    "import getpass"
   ]
  },
  {
   "cell_type": "markdown",
   "metadata": {
    "Collapsed": "false"
   },
   "source": [
    "## Подключение к базе данных"
   ]
  },
  {
   "cell_type": "code",
   "execution_count": 2,
   "metadata": {
    "Collapsed": "false"
   },
   "outputs": [
    {
     "name": "stdout",
     "output_type": "stream",
     "text": [
      "connect successful!!\n"
     ]
    }
   ],
   "source": [
    "# password_mysql = getpass.getpass(prompt=\"Введите пароль от MySQL-сервера: \")\n",
    "password_mysql = \"pass123\"\n",
    "mydb = pymysql.connect(host=\"127.0.0.1\",\n",
    "                             user='root',\n",
    "                             password=password_mysql, \n",
    "                             db='db_analyt_loc',\n",
    "                             charset='utf8mb4',\n",
    "                             cursorclass=pymysql.cursors.DictCursor)\n",
    " \n",
    "print (\"connect successful!!\")"
   ]
  },
  {
   "cell_type": "code",
   "execution_count": 3,
   "metadata": {
    "Collapsed": "false"
   },
   "outputs": [
    {
     "data": {
      "text/html": [
       "<div>\n",
       "<style scoped>\n",
       "    .dataframe tbody tr th:only-of-type {\n",
       "        vertical-align: middle;\n",
       "    }\n",
       "\n",
       "    .dataframe tbody tr th {\n",
       "        vertical-align: top;\n",
       "    }\n",
       "\n",
       "    .dataframe thead th {\n",
       "        text-align: right;\n",
       "    }\n",
       "</style>\n",
       "<table border=\"1\" class=\"dataframe\">\n",
       "  <thead>\n",
       "    <tr style=\"text-align: right;\">\n",
       "      <th></th>\n",
       "      <th>Tables_in_db_analyt_loc</th>\n",
       "    </tr>\n",
       "  </thead>\n",
       "  <tbody>\n",
       "    <tr>\n",
       "      <th>0</th>\n",
       "      <td>orders_20190822</td>\n",
       "    </tr>\n",
       "    <tr>\n",
       "      <th>1</th>\n",
       "      <td>orders_all</td>\n",
       "    </tr>\n",
       "    <tr>\n",
       "      <th>2</th>\n",
       "      <td>time_user_b</td>\n",
       "    </tr>\n",
       "    <tr>\n",
       "      <th>3</th>\n",
       "      <td>time_user_ym_s</td>\n",
       "    </tr>\n",
       "    <tr>\n",
       "      <th>4</th>\n",
       "      <td>users_for_merg</td>\n",
       "    </tr>\n",
       "  </tbody>\n",
       "</table>\n",
       "</div>"
      ],
      "text/plain": [
       "  Tables_in_db_analyt_loc\n",
       "0         orders_20190822\n",
       "1              orders_all\n",
       "2             time_user_b\n",
       "3          time_user_ym_s\n",
       "4          users_for_merg"
      ]
     },
     "execution_count": 3,
     "metadata": {},
     "output_type": "execute_result"
    }
   ],
   "source": [
    "def show_tables():\n",
    "    return pd.read_sql(\"\"\"SHOW TABLES FROM db_analyt_loc;\"\"\", con=mydb)\n",
    "show_tables()"
   ]
  },
  {
   "cell_type": "markdown",
   "metadata": {},
   "source": [
    "1. Уточнить критерии групп New,Regular,Vip,Lost"
   ]
  },
  {
   "cell_type": "code",
   "execution_count": null,
   "metadata": {},
   "outputs": [],
   "source": [
    "%%time\n"
   ]
  },
  {
   "cell_type": "markdown",
   "metadata": {},
   "source": [
    "2. По состоянию на 1.01.2017 понимаем, кто попадает в какую группу, подсчитываем кол-во пользователей в каждой."
   ]
  },
  {
   "cell_type": "markdown",
   "metadata": {},
   "source": [
    "3. По состоянию на 1.02.2017 понимаем, кто вышел из каждой из групп, а кто вошел."
   ]
  },
  {
   "cell_type": "markdown",
   "metadata": {},
   "source": [
    "4. Аналогично смотрим состояние на 1.03.2017, понимаем кто вышел из каждой из групп, а кто вошел."
   ]
  },
  {
   "cell_type": "markdown",
   "metadata": {},
   "source": [
    "5. В итоге делаем вывод, какая группа уменьшается, какая увеличивается и продумываем, в чем может быть причина."
   ]
  },
  {
   "cell_type": "markdown",
   "metadata": {
    "Collapsed": "false"
   },
   "source": [
    "### 1. На 2016.12.31 получаем инфу по кол-ву заказов на каждого юзера. Подсчитываем сколько пользователей попало в группу с 1 заказом, 2, 3 и т.д."
   ]
  },
  {
   "cell_type": "code",
   "execution_count": null,
   "metadata": {
    "Collapsed": "false"
   },
   "outputs": [],
   "source": [
    "%%time\n",
    "# Второй раз выполнять не надо\n",
    "mydb.cursor().execute(\n",
    "    \"\"\"\n",
    "    CREATE TABLE time_user_b\n",
    "        SELECT\n",
    "          user_id,\n",
    "          COUNT(id_o) n,\n",
    "          DATE('2017-01-01') m\n",
    "        FROM orders_20190822 o\n",
    "        WHERE DATE(o_date) < DATE('2017-01-01')\n",
    "        GROUP BY user_id;\n",
    "    \"\"\")\n",
    "mydb.commit()\n",
    "\n",
    "months = ['02','03','04','05','06','07','08','09','10','11','12']\n",
    "for month in months:\n",
    "    mydb.cursor().execute(\n",
    "        f\"\"\"\n",
    "        INSERT INTO time_user_b\n",
    "            SELECT\n",
    "            user_id,\n",
    "            COUNT(id_o) n,\n",
    "            DATE('2017-{month}-01')\n",
    "            FROM orders_20190822 o\n",
    "            WHERE DATE(o_date) < DATE('2017-{month}-01')\n",
    "            GROUP BY user_id;\n",
    "          \"\"\")\n",
    "    mydb.commit()"
   ]
  },
  {
   "cell_type": "code",
   "execution_count": null,
   "metadata": {
    "Collapsed": "false"
   },
   "outputs": [],
   "source": [
    "show_tables()"
   ]
  },
  {
   "cell_type": "code",
   "execution_count": null,
   "metadata": {
    "Collapsed": "false"
   },
   "outputs": [],
   "source": [
    "mydb.cursor().execute(\n",
    "    \"\"\"\n",
    "    CREATE TABLE time_user_ym_s\n",
    "        SELECT\n",
    "          user_id,\n",
    "          DATE_FORMAT(o_date, '%y%m') ym,\n",
    "          SUM(price) s\n",
    "        FROM orders_20190822 o\n",
    "        GROUP BY user_id, DATE_FORMAT(o_date, '%y%m');\n",
    "    \"\"\")\n",
    "mydb.commit()\n",
    "show_tables()"
   ]
  },
  {
   "cell_type": "code",
   "execution_count": null,
   "metadata": {
    "Collapsed": "false"
   },
   "outputs": [],
   "source": [
    "%%time\n",
    "mydb.cursor().execute(\n",
    "    \"\"\"\n",
    "    CREATE TABLE time_user_ym_s\n",
    "    SELECT\n",
    "      user_id,\n",
    "      DATE_FORMAT(o_date, '%y%m') AS ym,\n",
    "      SUM(price) AS s\n",
    "    FROM orders_20190822 o\n",
    "    GROUP BY user_id, DATE_FORMAT(o_date, '%y%m');\n",
    "    \"\"\"\n",
    ")\n",
    "mydb.commit()"
   ]
  },
  {
   "cell_type": "code",
   "execution_count": null,
   "metadata": {
    "Collapsed": "false"
   },
   "outputs": [],
   "source": [
    "pd.read_sql(f\"SELECT * FROM time_user_ym_s\", con=mydb)"
   ]
  },
  {
   "cell_type": "code",
   "execution_count": null,
   "metadata": {
    "Collapsed": "false"
   },
   "outputs": [],
   "source": []
  },
  {
   "cell_type": "code",
   "execution_count": null,
   "metadata": {
    "Collapsed": "false"
   },
   "outputs": [],
   "source": []
  },
  {
   "cell_type": "code",
   "execution_count": null,
   "metadata": {
    "Collapsed": "false"
   },
   "outputs": [],
   "source": []
  },
  {
   "cell_type": "code",
   "execution_count": null,
   "metadata": {
    "Collapsed": "false"
   },
   "outputs": [],
   "source": []
  },
  {
   "cell_type": "markdown",
   "metadata": {
    "Collapsed": "false"
   },
   "source": [
    "# Закрытие сессии"
   ]
  },
  {
   "cell_type": "code",
   "execution_count": null,
   "metadata": {
    "Collapsed": "false"
   },
   "outputs": [],
   "source": [
    "mydb.close()"
   ]
  },
  {
   "cell_type": "code",
   "execution_count": null,
   "metadata": {
    "Collapsed": "false"
   },
   "outputs": [],
   "source": []
  }
 ],
 "metadata": {
  "kernelspec": {
   "display_name": "Python 3",
   "language": "python",
   "name": "python3"
  },
  "language_info": {
   "codemirror_mode": {
    "name": "ipython",
    "version": 3
   },
   "file_extension": ".py",
   "mimetype": "text/x-python",
   "name": "python",
   "nbconvert_exporter": "python",
   "pygments_lexer": "ipython3",
   "version": "3.7.6"
  }
 },
 "nbformat": 4,
 "nbformat_minor": 4
}
