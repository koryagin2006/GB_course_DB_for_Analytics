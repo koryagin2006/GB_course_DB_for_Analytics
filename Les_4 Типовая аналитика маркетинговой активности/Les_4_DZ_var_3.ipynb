{
 "cells": [
  {
   "cell_type": "markdown",
   "metadata": {
    "Collapsed": "false"
   },
   "source": [
    "# Задача"
   ]
  },
  {
   "cell_type": "markdown",
   "metadata": {
    "Collapsed": "false"
   },
   "source": [
    "Делаем анализ, который обсуждали.\n",
    "\n",
    "*Исходник данных*: продажи за 2 года.\n",
    "\n",
    "1. На 2016.12.31 получаем инфу по кол-ву заказов на каждого юзера. Подсчитываем сколько пользователей попало в группу с 1 заказом, 2, 3 и т.д.\n",
    "2. За январь 2017 смотрим, какое кол-во юзеров из п.1 купило в каждой группе и на какую сумму за месяц.(скрипты вам должны помочь)\n",
    "3. Подсчитываем вероятность перехода в покупающего по каждой группе и ср траты за январь в группе (как на занятии).\n",
    "4. В идеале сделать тоже самое на февраль, март, и до конца 17 года (чтобы оценить сезонность и рост трат за месяц)"
   ]
  },
  {
   "cell_type": "markdown",
   "metadata": {
    "Collapsed": "false"
   },
   "source": [
    "# Подготовка"
   ]
  },
  {
   "cell_type": "markdown",
   "metadata": {
    "Collapsed": "false"
   },
   "source": [
    "## Подключение библиотек"
   ]
  },
  {
   "cell_type": "code",
   "execution_count": 11,
   "metadata": {
    "Collapsed": "false"
   },
   "outputs": [],
   "source": [
    "import pymysql.cursors\n",
    "import pandas as pd\n",
    "from pprint import pprint\n",
    "import matplotlib.pyplot as plt\n",
    "import getpass"
   ]
  },
  {
   "cell_type": "markdown",
   "metadata": {
    "Collapsed": "false"
   },
   "source": [
    "## Подключение к базе данных"
   ]
  },
  {
   "cell_type": "code",
   "execution_count": 44,
   "metadata": {
    "Collapsed": "false"
   },
   "outputs": [
    {
     "name": "stdout",
     "output_type": "stream",
     "text": [
      "connect successful!!\n"
     ]
    }
   ],
   "source": [
    "# password_mysql = getpass.getpass(prompt=\"Введите пароль от MySQL-сервера: \")\n",
    "password_mysql = \"pass123\"\n",
    "mydb = pymysql.connect(host=\"127.0.0.1\",\n",
    "                             user='root',\n",
    "                             password=password_mysql, \n",
    "                             db='db_analyt_loc',\n",
    "                             charset='utf8mb4',\n",
    "                             cursorclass=pymysql.cursors.DictCursor)\n",
    " \n",
    "print (\"connect successful!!\")"
   ]
  },
  {
   "cell_type": "code",
   "execution_count": 15,
   "metadata": {
    "Collapsed": "false"
   },
   "outputs": [
    {
     "data": {
      "text/html": [
       "<div>\n",
       "<style scoped>\n",
       "    .dataframe tbody tr th:only-of-type {\n",
       "        vertical-align: middle;\n",
       "    }\n",
       "\n",
       "    .dataframe tbody tr th {\n",
       "        vertical-align: top;\n",
       "    }\n",
       "\n",
       "    .dataframe thead th {\n",
       "        text-align: right;\n",
       "    }\n",
       "</style>\n",
       "<table border=\"1\" class=\"dataframe\">\n",
       "  <thead>\n",
       "    <tr style=\"text-align: right;\">\n",
       "      <th></th>\n",
       "      <th>Tables_in_db_analyt_loc</th>\n",
       "    </tr>\n",
       "  </thead>\n",
       "  <tbody>\n",
       "    <tr>\n",
       "      <th>0</th>\n",
       "      <td>orders_20190822</td>\n",
       "    </tr>\n",
       "    <tr>\n",
       "      <th>1</th>\n",
       "      <td>orders_all</td>\n",
       "    </tr>\n",
       "    <tr>\n",
       "      <th>2</th>\n",
       "      <td>time_user_b</td>\n",
       "    </tr>\n",
       "    <tr>\n",
       "      <th>3</th>\n",
       "      <td>time_user_ym_s</td>\n",
       "    </tr>\n",
       "    <tr>\n",
       "      <th>4</th>\n",
       "      <td>users_for_merg</td>\n",
       "    </tr>\n",
       "  </tbody>\n",
       "</table>\n",
       "</div>"
      ],
      "text/plain": [
       "  Tables_in_db_analyt_loc\n",
       "0         orders_20190822\n",
       "1              orders_all\n",
       "2             time_user_b\n",
       "3          time_user_ym_s\n",
       "4          users_for_merg"
      ]
     },
     "execution_count": 15,
     "metadata": {},
     "output_type": "execute_result"
    }
   ],
   "source": [
    "def show_tables():\n",
    "    return pd.read_sql(\"\"\"SHOW TABLES FROM db_analyt_loc;\"\"\", con=mydb)\n",
    "show_tables()"
   ]
  },
  {
   "cell_type": "code",
   "execution_count": 17,
   "metadata": {
    "Collapsed": "false"
   },
   "outputs": [],
   "source": [
    "mydb.cursor().execute(\n",
    "    \"\"\"\n",
    "    DROP TABLE IF EXISTS one_month_table;\n",
    "    \"\"\")\n",
    "mydb.commit()"
   ]
  },
  {
   "cell_type": "code",
   "execution_count": 18,
   "metadata": {
    "Collapsed": "false"
   },
   "outputs": [
    {
     "name": "stdout",
     "output_type": "stream",
     "text": [
      "Wall time: 23.9 s\n"
     ]
    }
   ],
   "source": [
    "%%time\n",
    "mydb.cursor().execute(\n",
    "    \"\"\"\n",
    "    CREATE TABLE one_month_table (\n",
    "    SELECT \n",
    "        user_id,\n",
    "        COUNT(id_o) AS n,\n",
    "        MONTH(o_date) AS date_m,\n",
    "        YEAR(o_date) AS date_y\n",
    "    FROM orders_20190822 o\n",
    "    WHERE price BETWEEN 0 AND 150000\n",
    "    GROUP BY user_id, date_m, date_y);\n",
    "    \"\"\")\n",
    "mydb.commit()"
   ]
  },
  {
   "cell_type": "code",
   "execution_count": 20,
   "metadata": {
    "Collapsed": "false"
   },
   "outputs": [
    {
     "name": "stdout",
     "output_type": "stream",
     "text": [
      "Wall time: 37.2 s\n"
     ]
    },
    {
     "data": {
      "text/html": [
       "<div>\n",
       "<style scoped>\n",
       "    .dataframe tbody tr th:only-of-type {\n",
       "        vertical-align: middle;\n",
       "    }\n",
       "\n",
       "    .dataframe tbody tr th {\n",
       "        vertical-align: top;\n",
       "    }\n",
       "\n",
       "    .dataframe thead th {\n",
       "        text-align: right;\n",
       "    }\n",
       "</style>\n",
       "<table border=\"1\" class=\"dataframe\">\n",
       "  <thead>\n",
       "    <tr style=\"text-align: right;\">\n",
       "      <th></th>\n",
       "      <th>user_id</th>\n",
       "      <th>n</th>\n",
       "      <th>date_m</th>\n",
       "      <th>date_y</th>\n",
       "    </tr>\n",
       "  </thead>\n",
       "  <tbody>\n",
       "    <tr>\n",
       "      <th>0</th>\n",
       "      <td>337544</td>\n",
       "      <td>1</td>\n",
       "      <td>1</td>\n",
       "      <td>2016</td>\n",
       "    </tr>\n",
       "    <tr>\n",
       "      <th>1</th>\n",
       "      <td>171642</td>\n",
       "      <td>4</td>\n",
       "      <td>1</td>\n",
       "      <td>2016</td>\n",
       "    </tr>\n",
       "    <tr>\n",
       "      <th>2</th>\n",
       "      <td>260596</td>\n",
       "      <td>1</td>\n",
       "      <td>1</td>\n",
       "      <td>2016</td>\n",
       "    </tr>\n",
       "    <tr>\n",
       "      <th>3</th>\n",
       "      <td>1105609</td>\n",
       "      <td>1</td>\n",
       "      <td>1</td>\n",
       "      <td>2016</td>\n",
       "    </tr>\n",
       "    <tr>\n",
       "      <th>4</th>\n",
       "      <td>982696</td>\n",
       "      <td>1</td>\n",
       "      <td>1</td>\n",
       "      <td>2016</td>\n",
       "    </tr>\n",
       "  </tbody>\n",
       "</table>\n",
       "</div>"
      ],
      "text/plain": [
       "   user_id  n  date_m  date_y\n",
       "0   337544  1       1    2016\n",
       "1   171642  4       1    2016\n",
       "2   260596  1       1    2016\n",
       "3  1105609  1       1    2016\n",
       "4   982696  1       1    2016"
      ]
     },
     "execution_count": 20,
     "metadata": {},
     "output_type": "execute_result"
    }
   ],
   "source": [
    "%%time\n",
    "df_one_month_table = pd.read_sql(f\"SELECT * FROM one_month_table;\", con=mydb)\n",
    "df_one_month_table.head()"
   ]
  },
  {
   "cell_type": "markdown",
   "metadata": {
    "Collapsed": "false"
   },
   "source": [
    "### \n",
    "-- Группировка пользователей на грууппы в зависимости от количества заказов\n",
    "-- Разделение по группам кол-во покупак в разные месяцы до 20170101."
   ]
  },
  {
   "cell_type": "code",
   "execution_count": 21,
   "metadata": {
    "Collapsed": "false"
   },
   "outputs": [
    {
     "name": "stdout",
     "output_type": "stream",
     "text": [
      "Wall time: 11.6 s\n"
     ]
    },
    {
     "data": {
      "text/html": [
       "<div>\n",
       "<style scoped>\n",
       "    .dataframe tbody tr th:only-of-type {\n",
       "        vertical-align: middle;\n",
       "    }\n",
       "\n",
       "    .dataframe tbody tr th {\n",
       "        vertical-align: top;\n",
       "    }\n",
       "\n",
       "    .dataframe thead th {\n",
       "        text-align: right;\n",
       "    }\n",
       "</style>\n",
       "<table border=\"1\" class=\"dataframe\">\n",
       "  <thead>\n",
       "    <tr style=\"text-align: right;\">\n",
       "      <th></th>\n",
       "      <th>count_users</th>\n",
       "      <th>buyer_group</th>\n",
       "      <th>date_m</th>\n",
       "      <th>date_y</th>\n",
       "      <th>summ</th>\n",
       "    </tr>\n",
       "  </thead>\n",
       "  <tbody>\n",
       "    <tr>\n",
       "      <th>0</th>\n",
       "      <td>133283</td>\n",
       "      <td>1</td>\n",
       "      <td>1</td>\n",
       "      <td>2016</td>\n",
       "      <td>2.503092e+08</td>\n",
       "    </tr>\n",
       "    <tr>\n",
       "      <th>1</th>\n",
       "      <td>9309</td>\n",
       "      <td>2</td>\n",
       "      <td>1</td>\n",
       "      <td>2016</td>\n",
       "      <td>1.337300e+07</td>\n",
       "    </tr>\n",
       "    <tr>\n",
       "      <th>2</th>\n",
       "      <td>1196</td>\n",
       "      <td>3</td>\n",
       "      <td>1</td>\n",
       "      <td>2016</td>\n",
       "      <td>1.292315e+06</td>\n",
       "    </tr>\n",
       "    <tr>\n",
       "      <th>3</th>\n",
       "      <td>22401</td>\n",
       "      <td>4</td>\n",
       "      <td>1</td>\n",
       "      <td>2016</td>\n",
       "      <td>6.637888e+07</td>\n",
       "    </tr>\n",
       "    <tr>\n",
       "      <th>4</th>\n",
       "      <td>134305</td>\n",
       "      <td>1</td>\n",
       "      <td>2</td>\n",
       "      <td>2016</td>\n",
       "      <td>2.503801e+08</td>\n",
       "    </tr>\n",
       "  </tbody>\n",
       "</table>\n",
       "</div>"
      ],
      "text/plain": [
       "   count_users  buyer_group  date_m  date_y          summ\n",
       "0       133283            1       1    2016  2.503092e+08\n",
       "1         9309            2       1    2016  1.337300e+07\n",
       "2         1196            3       1    2016  1.292315e+06\n",
       "3        22401            4       1    2016  6.637888e+07\n",
       "4       134305            1       2    2016  2.503801e+08"
      ]
     },
     "execution_count": 21,
     "metadata": {},
     "output_type": "execute_result"
    }
   ],
   "source": [
    "%%time\n",
    "df_before_20170101 = pd.read_sql(\n",
    "    \"\"\"\n",
    "    SELECT \n",
    "        COUNT(omt.user_id) AS count_users,\n",
    "        CASE \n",
    "            WHEN n < 5 THEN 1\n",
    "            WHEN n BETWEEN 5 AND 10 THEN 2\n",
    "            WHEN n BETWEEN 11 AND 20 THEN 3\n",
    "            WHEN n > 20 THEN 4 END AS buyer_group,\n",
    "        date_m,\n",
    "        date_y,\n",
    "        sum(o.price) AS summ\n",
    "    FROM one_month_table omt\n",
    "    LEFT JOIN orders_20190822 AS o\n",
    "    ON omt.user_id = o.user_id\n",
    "    WHERE \n",
    "        o.price BETWEEN 0 AND 150000 AND \n",
    "        o.o_date < DATE('2017-01-01') AND\n",
    "        DATE(concat(omt.date_y,'-',omt.date_m,'-','01')) < DATE('2017-01-01')\n",
    "    GROUP BY buyer_group, omt.date_m, omt.date_y;\n",
    "    \"\"\", con=mydb)\n",
    "df_before_20170101.head()"
   ]
  },
  {
   "cell_type": "markdown",
   "metadata": {
    "Collapsed": "false"
   },
   "source": [
    "### -- просмотр, в какой групе был пользователь, и в какую группу он попал"
   ]
  },
  {
   "cell_type": "code",
   "execution_count": 22,
   "metadata": {
    "Collapsed": "false"
   },
   "outputs": [
    {
     "name": "stdout",
     "output_type": "stream",
     "text": [
      "Wall time: 6.61 s\n"
     ]
    },
    {
     "data": {
      "text/html": [
       "<div>\n",
       "<style scoped>\n",
       "    .dataframe tbody tr th:only-of-type {\n",
       "        vertical-align: middle;\n",
       "    }\n",
       "\n",
       "    .dataframe tbody tr th {\n",
       "        vertical-align: top;\n",
       "    }\n",
       "\n",
       "    .dataframe thead th {\n",
       "        text-align: right;\n",
       "    }\n",
       "</style>\n",
       "<table border=\"1\" class=\"dataframe\">\n",
       "  <thead>\n",
       "    <tr style=\"text-align: right;\">\n",
       "      <th></th>\n",
       "      <th>user_id</th>\n",
       "      <th>expenses</th>\n",
       "      <th>buyer_group_prev</th>\n",
       "      <th>buyer_group_cur</th>\n",
       "    </tr>\n",
       "  </thead>\n",
       "  <tbody>\n",
       "    <tr>\n",
       "      <th>0</th>\n",
       "      <td>655099</td>\n",
       "      <td>208.6</td>\n",
       "      <td>1</td>\n",
       "      <td>1</td>\n",
       "    </tr>\n",
       "    <tr>\n",
       "      <th>1</th>\n",
       "      <td>278321</td>\n",
       "      <td>1897.0</td>\n",
       "      <td>1</td>\n",
       "      <td>1</td>\n",
       "    </tr>\n",
       "    <tr>\n",
       "      <th>2</th>\n",
       "      <td>340809</td>\n",
       "      <td>6509.3</td>\n",
       "      <td>1</td>\n",
       "      <td>2</td>\n",
       "    </tr>\n",
       "    <tr>\n",
       "      <th>3</th>\n",
       "      <td>340809</td>\n",
       "      <td>6509.3</td>\n",
       "      <td>2</td>\n",
       "      <td>2</td>\n",
       "    </tr>\n",
       "    <tr>\n",
       "      <th>4</th>\n",
       "      <td>2654584</td>\n",
       "      <td>989.8</td>\n",
       "      <td>1</td>\n",
       "      <td>1</td>\n",
       "    </tr>\n",
       "  </tbody>\n",
       "</table>\n",
       "</div>"
      ],
      "text/plain": [
       "   user_id  expenses  buyer_group_prev  buyer_group_cur\n",
       "0   655099     208.6                 1                1\n",
       "1   278321    1897.0                 1                1\n",
       "2   340809    6509.3                 1                2\n",
       "3   340809    6509.3                 2                2\n",
       "4  2654584     989.8                 1                1"
      ]
     },
     "execution_count": 22,
     "metadata": {},
     "output_type": "execute_result"
    }
   ],
   "source": [
    "%%time\n",
    "df_groups = pd.read_sql(\n",
    "    \"\"\"\n",
    "    SELECT \n",
    "        ot.user_id, \n",
    "        expenses,\n",
    "        buyer_group_prev,\n",
    "        CASE \n",
    "            WHEN buyer_group_cur < 5 THEN 1\n",
    "            WHEN buyer_group_cur BETWEEN 5 AND 10 THEN 2\n",
    "            WHEN buyer_group_cur BETWEEN 11 AND 20 THEN 3\n",
    "            WHEN buyer_group_cur > 20 THEN 4 END AS buyer_group_cur\n",
    "    FROM (\n",
    "        SELECT \n",
    "            DISTINCT(user_id),\n",
    "            CASE \n",
    "                WHEN n < 5 THEN 1\n",
    "                WHEN n BETWEEN 5 AND 10 THEN 2\n",
    "                WHEN n BETWEEN 11 AND 20 THEN 3\n",
    "                WHEN n > 20 THEN 4 END AS buyer_group_prev\n",
    "        FROM one_month_table AS ot\n",
    "        WHERE DATE(concat(date_y,'-',date_m,'-','01')) < DATE('2017-01-01')) ot\n",
    "    INNER JOIN (\n",
    "        SELECT\n",
    "            user_id,\n",
    "            sum(price) AS expenses,\n",
    "            count(id_o) AS buyer_group_cur\n",
    "        FROM orders_20190822 oh\n",
    "        WHERE YEAR(o_date) = 2017 AND\n",
    "              MONTH(o_date) = 1 AND\n",
    "              price BETWEEN 0 AND 150000\n",
    "        GROUP BY user_id) oh ON ot.user_id = oh.user_id;\n",
    "    \"\"\", con=mydb)\n",
    "df_groups.head()"
   ]
  },
  {
   "cell_type": "markdown",
   "metadata": {
    "Collapsed": "false"
   },
   "source": [
    "### -- просмотр, сколько пользователей из группп в прошлом сохранились в анализируемом месяце"
   ]
  },
  {
   "cell_type": "code",
   "execution_count": 45,
   "metadata": {
    "Collapsed": "false"
   },
   "outputs": [
    {
     "name": "stdout",
     "output_type": "stream",
     "text": [
      "Wall time: 13.9 s\n"
     ]
    },
    {
     "data": {
      "text/html": [
       "<div>\n",
       "<style scoped>\n",
       "    .dataframe tbody tr th:only-of-type {\n",
       "        vertical-align: middle;\n",
       "    }\n",
       "\n",
       "    .dataframe tbody tr th {\n",
       "        vertical-align: top;\n",
       "    }\n",
       "\n",
       "    .dataframe thead th {\n",
       "        text-align: right;\n",
       "    }\n",
       "</style>\n",
       "<table border=\"1\" class=\"dataframe\">\n",
       "  <thead>\n",
       "    <tr style=\"text-align: right;\">\n",
       "      <th></th>\n",
       "      <th>buyer_group_prev</th>\n",
       "      <th>осталось</th>\n",
       "      <th>%</th>\n",
       "    </tr>\n",
       "  </thead>\n",
       "  <tbody>\n",
       "    <tr>\n",
       "      <th>0</th>\n",
       "      <td>1</td>\n",
       "      <td>60412</td>\n",
       "      <td>14.1795</td>\n",
       "    </tr>\n",
       "    <tr>\n",
       "      <th>1</th>\n",
       "      <td>2</td>\n",
       "      <td>3485</td>\n",
       "      <td>5.0334</td>\n",
       "    </tr>\n",
       "    <tr>\n",
       "      <th>2</th>\n",
       "      <td>3</td>\n",
       "      <td>436</td>\n",
       "      <td>2.2014</td>\n",
       "    </tr>\n",
       "    <tr>\n",
       "      <th>3</th>\n",
       "      <td>4</td>\n",
       "      <td>280</td>\n",
       "      <td>3.7318</td>\n",
       "    </tr>\n",
       "  </tbody>\n",
       "</table>\n",
       "</div>"
      ],
      "text/plain": [
       "   buyer_group_prev  осталось        %\n",
       "0                 1     60412  14.1795\n",
       "1                 2      3485   5.0334\n",
       "2                 3       436   2.2014\n",
       "3                 4       280   3.7318"
      ]
     },
     "execution_count": 45,
     "metadata": {},
     "output_type": "execute_result"
    }
   ],
   "source": [
    "%%time\n",
    "df_dynamic = pd.read_sql(\n",
    "    \"\"\"\n",
    "    SELECT\n",
    "        buyer_group_prev,\n",
    "        count(ot.user_id) AS осталось,\n",
    "        count(ot.user_id) / (\n",
    "                SELECT count(user_id) \n",
    "                FROM one_month_table ot2 \n",
    "                WHERE n = ot.buyer_group_prev AND\n",
    "                        DATE(concat(date_y,'-',date_m,'-','01')) < DATE('2016-12-01'))*100 '%'\n",
    "    FROM (\n",
    "        SELECT *,\n",
    "            CASE \n",
    "                WHEN n < 5 THEN 1\n",
    "                WHEN n BETWEEN 5 AND 10 THEN 2\n",
    "                WHEN n BETWEEN 11 AND 20 THEN 3\n",
    "                WHEN n > 20 THEN 4 END AS buyer_group_prev\n",
    "        FROM one_month_table AS ot\n",
    "        WHERE DATE(concat(date_y,'-',date_m,'-','01')) < DATE('2016-12-01')) ot\n",
    "    INNER JOIN (\n",
    "        SELECT\n",
    "            user_id,\n",
    "            sum(price) AS expenses,\n",
    "            count(id_o) AS buyer_group_cur\n",
    "        FROM orders_20190822 oh\n",
    "        WHERE YEAR(o_date) = 2017 AND\n",
    "              MONTH(o_date) = 1 AND\n",
    "              price BETWEEN 0 AND 150000\n",
    "        GROUP BY user_id) oh \n",
    "    ON ot.user_id = oh.user_id\n",
    "    GROUP BY buyer_group_prev; \n",
    "    \"\"\", con=mydb)\n",
    "df_dynamic.head()"
   ]
  },
  {
   "cell_type": "code",
   "execution_count": 46,
   "metadata": {
    "Collapsed": "false"
   },
   "outputs": [
    {
     "data": {
      "text/html": [
       "<div>\n",
       "<style scoped>\n",
       "    .dataframe tbody tr th:only-of-type {\n",
       "        vertical-align: middle;\n",
       "    }\n",
       "\n",
       "    .dataframe tbody tr th {\n",
       "        vertical-align: top;\n",
       "    }\n",
       "\n",
       "    .dataframe thead th {\n",
       "        text-align: right;\n",
       "    }\n",
       "</style>\n",
       "<table border=\"1\" class=\"dataframe\">\n",
       "  <thead>\n",
       "    <tr style=\"text-align: right;\">\n",
       "      <th></th>\n",
       "      <th>buyer_group_prev</th>\n",
       "      <th>осталось</th>\n",
       "      <th>%</th>\n",
       "      <th>period</th>\n",
       "    </tr>\n",
       "  </thead>\n",
       "  <tbody>\n",
       "    <tr>\n",
       "      <th>0</th>\n",
       "      <td>1</td>\n",
       "      <td>60412</td>\n",
       "      <td>14.1795</td>\n",
       "      <td>1701</td>\n",
       "    </tr>\n",
       "    <tr>\n",
       "      <th>1</th>\n",
       "      <td>2</td>\n",
       "      <td>3485</td>\n",
       "      <td>5.0334</td>\n",
       "      <td>1701</td>\n",
       "    </tr>\n",
       "    <tr>\n",
       "      <th>2</th>\n",
       "      <td>3</td>\n",
       "      <td>436</td>\n",
       "      <td>2.2014</td>\n",
       "      <td>1701</td>\n",
       "    </tr>\n",
       "    <tr>\n",
       "      <th>3</th>\n",
       "      <td>4</td>\n",
       "      <td>280</td>\n",
       "      <td>3.7318</td>\n",
       "      <td>1701</td>\n",
       "    </tr>\n",
       "  </tbody>\n",
       "</table>\n",
       "</div>"
      ],
      "text/plain": [
       "   buyer_group_prev  осталось        %  period\n",
       "0                 1     60412  14.1795    1701\n",
       "1                 2      3485   5.0334    1701\n",
       "2                 3       436   2.2014    1701\n",
       "3                 4       280   3.7318    1701"
      ]
     },
     "execution_count": 46,
     "metadata": {},
     "output_type": "execute_result"
    }
   ],
   "source": [
    "df_dynamic['period'] = 1701\n",
    "df_dynamic.head()"
   ]
  },
  {
   "cell_type": "markdown",
   "metadata": {
    "Collapsed": "false"
   },
   "source": [
    "# Закрытие сессии"
   ]
  },
  {
   "cell_type": "code",
   "execution_count": 47,
   "metadata": {
    "Collapsed": "false"
   },
   "outputs": [],
   "source": [
    "mydb.close()"
   ]
  },
  {
   "cell_type": "code",
   "execution_count": null,
   "metadata": {
    "Collapsed": "false"
   },
   "outputs": [],
   "source": []
  }
 ],
 "metadata": {
  "kernelspec": {
   "display_name": "Python 3",
   "language": "python",
   "name": "python3"
  },
  "language_info": {
   "codemirror_mode": {
    "name": "ipython",
    "version": 3
   },
   "file_extension": ".py",
   "mimetype": "text/x-python",
   "name": "python",
   "nbconvert_exporter": "python",
   "pygments_lexer": "ipython3",
   "version": "3.7.6"
  }
 },
 "nbformat": 4,
 "nbformat_minor": 4
}
