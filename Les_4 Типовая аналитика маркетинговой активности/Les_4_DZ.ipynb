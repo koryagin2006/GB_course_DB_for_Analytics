{
 "cells": [
  {
   "cell_type": "markdown",
   "metadata": {
    "Collapsed": "false"
   },
   "source": [
    "# Задача"
   ]
  },
  {
   "cell_type": "markdown",
   "metadata": {
    "Collapsed": "false"
   },
   "source": [
    "Делаем анализ, который обсуждали.\n",
    "\n",
    "*Исходник данных*: продажи за 2 года.\n",
    "\n",
    "1. На 2016.12.31 получаем инфу по кол-ву заказов на каждого юзера. Подсчитываем сколько пользователей попало в группу с 1 заказом, 2, 3 и т.д.\n",
    "2. За январь 2017 смотрим, какое кол-во юзеров из п.1 купило в каждой группе и на какую сумму за месяц.(скрипты вам должны помочь)\n",
    "3. Подсчитываем вероятность перехода в покупающего по каждой группе и ср траты за январь в группе (как на занятии).\n",
    "4. В идеале сделать тоже самое на февраль, март, и до конца 17 года (чтобы оценить сезонность и рост трат за месяц)"
   ]
  },
  {
   "cell_type": "markdown",
   "metadata": {
    "Collapsed": "false"
   },
   "source": [
    "# Подготовка"
   ]
  },
  {
   "cell_type": "markdown",
   "metadata": {
    "Collapsed": "false"
   },
   "source": [
    "## Подключение библиотек"
   ]
  },
  {
   "cell_type": "code",
   "execution_count": 1,
   "metadata": {
    "Collapsed": "false"
   },
   "outputs": [],
   "source": [
    "import pymysql.cursors\n",
    "import pandas as pd\n",
    "from pprint import pprint\n",
    "import matplotlib.pyplot as plt\n",
    "import getpass"
   ]
  },
  {
   "cell_type": "markdown",
   "metadata": {
    "Collapsed": "false"
   },
   "source": [
    "## Подключение к базе данных"
   ]
  },
  {
   "cell_type": "code",
   "execution_count": 2,
   "metadata": {
    "Collapsed": "false"
   },
   "outputs": [
    {
     "name": "stdout",
     "output_type": "stream",
     "text": [
      "connect successful!!\n"
     ]
    }
   ],
   "source": [
    "# password_mysql = getpass.getpass(prompt=\"Введите пароль от MySQL-сервера: \")\n",
    "password_mysql = \"pass123\"\n",
    "mydb = pymysql.connect(host=\"127.0.0.1\",\n",
    "                             user='root',\n",
    "                             password=password_mysql, \n",
    "                             db='db_analyt_loc',\n",
    "                             charset='utf8mb4',\n",
    "                             cursorclass=pymysql.cursors.DictCursor)\n",
    " \n",
    "print (\"connect successful!!\")"
   ]
  },
  {
   "cell_type": "code",
   "execution_count": 3,
   "metadata": {
    "Collapsed": "false"
   },
   "outputs": [],
   "source": [
    "current_db = \"orders_20190822\""
   ]
  },
  {
   "cell_type": "code",
   "execution_count": 19,
   "metadata": {
    "Collapsed": "false"
   },
   "outputs": [
    {
     "data": {
      "text/html": [
       "<div>\n",
       "<style scoped>\n",
       "    .dataframe tbody tr th:only-of-type {\n",
       "        vertical-align: middle;\n",
       "    }\n",
       "\n",
       "    .dataframe tbody tr th {\n",
       "        vertical-align: top;\n",
       "    }\n",
       "\n",
       "    .dataframe thead th {\n",
       "        text-align: right;\n",
       "    }\n",
       "</style>\n",
       "<table border=\"1\" class=\"dataframe\">\n",
       "  <thead>\n",
       "    <tr style=\"text-align: right;\">\n",
       "      <th></th>\n",
       "      <th>id_o</th>\n",
       "      <th>user_id</th>\n",
       "      <th>price</th>\n",
       "      <th>o_date</th>\n",
       "    </tr>\n",
       "  </thead>\n",
       "  <tbody>\n",
       "    <tr>\n",
       "      <th>0</th>\n",
       "      <td>1401600</td>\n",
       "      <td>272316</td>\n",
       "      <td>-3.5</td>\n",
       "      <td>2016-02-20</td>\n",
       "    </tr>\n",
       "    <tr>\n",
       "      <th>1</th>\n",
       "      <td>1615909</td>\n",
       "      <td>926637</td>\n",
       "      <td>0.0</td>\n",
       "      <td>2016-04-13</td>\n",
       "    </tr>\n",
       "    <tr>\n",
       "      <th>2</th>\n",
       "      <td>1627392</td>\n",
       "      <td>428359</td>\n",
       "      <td>-14.0</td>\n",
       "      <td>2016-04-15</td>\n",
       "    </tr>\n",
       "    <tr>\n",
       "      <th>3</th>\n",
       "      <td>1784326</td>\n",
       "      <td>215957</td>\n",
       "      <td>0.0</td>\n",
       "      <td>2016-05-23</td>\n",
       "    </tr>\n",
       "    <tr>\n",
       "      <th>4</th>\n",
       "      <td>1785877</td>\n",
       "      <td>222822</td>\n",
       "      <td>-17.5</td>\n",
       "      <td>2016-05-24</td>\n",
       "    </tr>\n",
       "  </tbody>\n",
       "</table>\n",
       "</div>"
      ],
      "text/plain": [
       "      id_o  user_id  price      o_date\n",
       "0  1401600   272316   -3.5  2016-02-20\n",
       "1  1615909   926637    0.0  2016-04-13\n",
       "2  1627392   428359  -14.0  2016-04-15\n",
       "3  1784326   215957    0.0  2016-05-23\n",
       "4  1785877   222822  -17.5  2016-05-24"
      ]
     },
     "execution_count": 19,
     "metadata": {},
     "output_type": "execute_result"
    }
   ],
   "source": [
    "# # пример\n",
    "# pd.read_sql(f\"SELECT * FROM {current_db} WHERE price <= 0\", con=mydb).head()"
   ]
  },
  {
   "cell_type": "code",
   "execution_count": 13,
   "metadata": {
    "Collapsed": "false"
   },
   "outputs": [
    {
     "name": "stdout",
     "output_type": "stream",
     "text": [
      "<pymysql.cursors.DictCursor object at 0x000001AF98EEDF88>\n"
     ]
    }
   ],
   "source": [
    "## Второй раз выполнять не надо\n",
    "\n",
    "\n",
    "# mydb.cursor().execute(f\"CREATE TABLE time_user_b SELECT user_id, COUNT(id_o) AS n, DATE('2017-01-01') AS m FROM orders_20190822 AS o WHERE DATE(o_date) < DATE('2017-01-01') GROUP BY user_id\")\n",
    "# mydb.commit()\n",
    "# print(mydb.cursor())"
   ]
  },
  {
   "cell_type": "code",
   "execution_count": 15,
   "metadata": {
    "Collapsed": "false"
   },
   "outputs": [
    {
     "name": "stdout",
     "output_type": "stream",
     "text": [
      "Wall time: 3min\n"
     ]
    }
   ],
   "source": [
    "## Второй раз выполнять не надо\n",
    "\n",
    "# %%time\n",
    "# months = ['02','03','04','05','06','07','08','09','10','11','12']\n",
    "# for month in months:\n",
    "#     mydb.cursor().execute(f\"INSERT INTO time_user_b SELECT user_id, count(id_o) n, DATE('2017-{month}-01') FROM orders_20190822 o WHERE DATE(o_date) < DATE('2017-{month}-01') GROUP BY user_id\")\n",
    "# mydb.commit()"
   ]
  },
  {
   "cell_type": "code",
   "execution_count": 4,
   "metadata": {
    "Collapsed": "false"
   },
   "outputs": [
    {
     "name": "stdout",
     "output_type": "stream",
     "text": [
      "Wall time: 22.4 s\n"
     ]
    }
   ],
   "source": [
    "%%time\n",
    "mydb.cursor().execute(f\"CREATE TABLE time_user_ym_s SELECT o.user_id, DATE_FORMAT(o.o_date, '%y%m') AS ym, SUM(o.price) AS s FROM orders_20190822 o GROUP BY o.user_id, DATE_FORMAT(o.o_date, '%y%m')\")\n",
    "mydb.commit()"
   ]
  },
  {
   "cell_type": "code",
   "execution_count": 16,
   "metadata": {
    "Collapsed": "false"
   },
   "outputs": [
    {
     "name": "stdout",
     "output_type": "stream",
     "text": [
      "Wall time: 9.7 s\n"
     ]
    }
   ],
   "source": [
    "%%time\n",
    "df = pd.read_sql(f\"SELECT t.n, COUNT(DISTINCT t.user_id), COUNT(s.user_id), SUM(s.s), COUNT(s.user_id)/COUNT(DISTINCT t.user_id) AS p, SUM(s.s)/COUNT(s.user_id) AS s_m, s.ym FROM time_user_b t LEFT JOIN time_user_ym_s s ON t.user_id = s.user_id WHERE t.m = DATE('2017-01-01') AND s.ym = '1701' GROUP BY t.n\", con=mydb)"
   ]
  },
  {
   "cell_type": "code",
   "execution_count": 17,
   "metadata": {
    "Collapsed": "false"
   },
   "outputs": [
    {
     "name": "stdout",
     "output_type": "stream",
     "text": [
      "02\n",
      "03\n",
      "04\n",
      "05\n",
      "06\n",
      "07\n",
      "08\n",
      "09\n",
      "10\n",
      "11\n",
      "12\n",
      "Wall time: 1min 50s\n"
     ]
    },
    {
     "data": {
      "text/plain": [
       "(1934, 7)"
      ]
     },
     "execution_count": 17,
     "metadata": {},
     "output_type": "execute_result"
    }
   ],
   "source": [
    "%%time\n",
    "months = ['02','03','04','05','06','07','08','09','10','11','12']\n",
    "for month in months:\n",
    "    print(month)\n",
    "    df = df.append(pd.read_sql(f\"SELECT t.n, COUNT(DISTINCT t.user_id), COUNT(s.user_id), SUM(s.s), COUNT(s.user_id)/COUNT(DISTINCT t.user_id) AS p, SUM(s.s)/COUNT(s.user_id) AS s_m, s.ym FROM time_user_b t LEFT JOIN time_user_ym_s s ON t.user_id = s.user_id WHERE t.m = DATE('2017-{month}-01') AND s.ym = '17{month}' GROUP BY t.n\", con=mydb), ignore_index=True)\n",
    "df.shape"
   ]
  },
  {
   "cell_type": "code",
   "execution_count": 18,
   "metadata": {
    "Collapsed": "false"
   },
   "outputs": [
    {
     "data": {
      "text/plain": [
       "1708    177\n",
       "1712    176\n",
       "1710    175\n",
       "1711    172\n",
       "1709    170\n",
       "1705    162\n",
       "1706    161\n",
       "1707    160\n",
       "1704    152\n",
       "1702    147\n",
       "1703    143\n",
       "1701    139\n",
       "Name: ym, dtype: int64"
      ]
     },
     "execution_count": 18,
     "metadata": {},
     "output_type": "execute_result"
    }
   ],
   "source": [
    "df['ym'].value_counts()"
   ]
  },
  {
   "cell_type": "code",
   "execution_count": 21,
   "metadata": {
    "Collapsed": "false"
   },
   "outputs": [],
   "source": [
    "df.to_excel('les_4_analys.xlsx')"
   ]
  },
  {
   "cell_type": "markdown",
   "metadata": {
    "Collapsed": "false"
   },
   "source": [
    "# Закрытие сессии"
   ]
  },
  {
   "cell_type": "code",
   "execution_count": 23,
   "metadata": {
    "Collapsed": "false"
   },
   "outputs": [],
   "source": [
    "mydb.close()"
   ]
  },
  {
   "cell_type": "code",
   "execution_count": null,
   "metadata": {
    "Collapsed": "false"
   },
   "outputs": [],
   "source": []
  }
 ],
 "metadata": {
  "kernelspec": {
   "display_name": "Python 3",
   "language": "python",
   "name": "python3"
  },
  "language_info": {
   "codemirror_mode": {
    "name": "ipython",
    "version": 3
   },
   "file_extension": ".py",
   "mimetype": "text/x-python",
   "name": "python",
   "nbconvert_exporter": "python",
   "pygments_lexer": "ipython3",
   "version": "3.7.6"
  }
 },
 "nbformat": 4,
 "nbformat_minor": 4
}
